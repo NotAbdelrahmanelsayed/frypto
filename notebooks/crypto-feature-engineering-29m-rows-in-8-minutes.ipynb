{
 "cells": [
  {
   "cell_type": "markdown",
   "id": "bd5ccd14",
   "metadata": {
    "jp-MarkdownHeadingCollapsed": true,
    "papermill": {
     "duration": 0.011136,
     "end_time": "2024-11-16T12:10:28.028173",
     "exception": false,
     "start_time": "2024-11-16T12:10:28.017037",
     "status": "completed"
    },
    "tags": []
   },
   "source": [
    "## 📊 Scalable Feature Engineering with Frypto\n",
    "With **Frypto**, a Python package designed for financial time series, you can easily generate **42 advanced features** such as price spreads, volatility indicators, momentum metrics, and more. \n",
    "\n",
    "In this notebook, we demonstrate:\n",
    "- How **Frypto** handles a **29 million-row cryptocurrency dataset** efficiently.\n",
    "- How to generate **42 engineered features** in **under 9 minutes**.\n",
    "- The impact of feature engineering on model performance.\n",
    "\n",
    "### Key Sections:\n",
    "1. **Environment Setup**: Install and import all necessary libraries.\n",
    "2. **Data Loading**: Load a large crypto dataset (29M rows) and preprocess it.\n",
    "3. **Feature Engineering**: Use **Frypto** to generate features for each asset.\n",
    "4. **Training Models**: Train models with and without Frypto features to compare performance.\n",
    "5. **Results & Analysis**: Evaluate and visualize the improvement in RMSE and feature importance.\n"
   ]
  },
  {
   "cell_type": "markdown",
   "id": "f047d5f3",
   "metadata": {
    "jp-MarkdownHeadingCollapsed": true,
    "papermill": {
     "duration": 0.010731,
     "end_time": "2024-11-16T12:10:28.051425",
     "exception": false,
     "start_time": "2024-11-16T12:10:28.040694",
     "status": "completed"
    },
    "tags": []
   },
   "source": [
    "# 1. Environment Setup"
   ]
  },
  {
   "cell_type": "markdown",
   "id": "c956fc77",
   "metadata": {
    "jp-MarkdownHeadingCollapsed": true,
    "papermill": {
     "duration": 0.010459,
     "end_time": "2024-11-16T12:10:28.072385",
     "exception": false,
     "start_time": "2024-11-16T12:10:28.061926",
     "status": "completed"
    },
    "tags": []
   },
   "source": [
    "### Install frypto: feature engineering package [Github Repo](https://github.com/NotAbdelrahmanelsayed/frypto) \n"
   ]
  },
  {
   "cell_type": "code",
   "execution_count": 1,
   "id": "4d066d45",
   "metadata": {
    "_kg_hide-input": true,
    "_kg_hide-output": true,
    "collapsed": true,
    "execution": {
     "iopub.execute_input": "2024-11-16T12:10:28.095315Z",
     "iopub.status.busy": "2024-11-16T12:10:28.094662Z",
     "iopub.status.idle": "2024-11-16T12:11:19.416932Z",
     "shell.execute_reply": "2024-11-16T12:11:19.415265Z"
    },
    "jupyter": {
     "outputs_hidden": true
    },
    "papermill": {
     "duration": 51.337153,
     "end_time": "2024-11-16T12:11:19.419971",
     "exception": false,
     "start_time": "2024-11-16T12:10:28.082818",
     "status": "completed"
    },
    "tags": []
   },
   "outputs": [
    {
     "name": "stdout",
     "output_type": "stream",
     "text": [
      "Collecting frypto\r\n",
      "  Downloading frypto-0.1.3-py3-none-any.whl.metadata (7.4 kB)\r\n",
      "Requirement already satisfied: pandas in /opt/conda/lib/python3.10/site-packages (from frypto) (2.2.2)\r\n",
      "Requirement already satisfied: numpy in /opt/conda/lib/python3.10/site-packages (from frypto) (1.26.4)\r\n",
      "Requirement already satisfied: numba in /opt/conda/lib/python3.10/site-packages (from frypto) (0.58.1)\r\n",
      "Requirement already satisfied: scipy in /opt/conda/lib/python3.10/site-packages (from frypto) (1.14.0)\r\n",
      "Collecting yfinance (from frypto)\r\n",
      "  Downloading yfinance-0.2.49-py2.py3-none-any.whl.metadata (13 kB)\r\n",
      "Requirement already satisfied: llvmlite<0.42,>=0.41.0dev0 in /opt/conda/lib/python3.10/site-packages (from numba->frypto) (0.41.1)\r\n",
      "Requirement already satisfied: python-dateutil>=2.8.2 in /opt/conda/lib/python3.10/site-packages (from pandas->frypto) (2.9.0.post0)\r\n",
      "Requirement already satisfied: pytz>=2020.1 in /opt/conda/lib/python3.10/site-packages (from pandas->frypto) (2024.1)\r\n",
      "Requirement already satisfied: tzdata>=2022.7 in /opt/conda/lib/python3.10/site-packages (from pandas->frypto) (2024.1)\r\n",
      "Requirement already satisfied: requests>=2.31 in /opt/conda/lib/python3.10/site-packages (from yfinance->frypto) (2.32.3)\r\n",
      "Collecting multitasking>=0.0.7 (from yfinance->frypto)\r\n",
      "  Downloading multitasking-0.0.11-py3-none-any.whl.metadata (5.5 kB)\r\n",
      "Requirement already satisfied: lxml>=4.9.1 in /opt/conda/lib/python3.10/site-packages (from yfinance->frypto) (5.3.0)\r\n",
      "Requirement already satisfied: platformdirs>=2.0.0 in /opt/conda/lib/python3.10/site-packages (from yfinance->frypto) (3.11.0)\r\n",
      "Requirement already satisfied: frozendict>=2.3.4 in /opt/conda/lib/python3.10/site-packages (from yfinance->frypto) (2.4.4)\r\n",
      "Collecting peewee>=3.16.2 (from yfinance->frypto)\r\n",
      "  Downloading peewee-3.17.8.tar.gz (948 kB)\r\n",
      "\u001b[2K     \u001b[90m━━━━━━━━━━━━━━━━━━━━━━━━━━━━━━━━━━━━━━\u001b[0m \u001b[32m948.2/948.2 kB\u001b[0m \u001b[31m17.4 MB/s\u001b[0m eta \u001b[36m0:00:00\u001b[0m\r\n",
      "\u001b[?25h  Installing build dependencies ... \u001b[?25l-\b \b\\\b \b|\b \b/\b \b-\b \bdone\r\n",
      "\u001b[?25h  Getting requirements to build wheel ... \u001b[?25l-\b \bdone\r\n",
      "\u001b[?25h  Preparing metadata (pyproject.toml) ... \u001b[?25l-\b \bdone\r\n",
      "\u001b[?25hRequirement already satisfied: beautifulsoup4>=4.11.1 in /opt/conda/lib/python3.10/site-packages (from yfinance->frypto) (4.12.3)\r\n",
      "Requirement already satisfied: html5lib>=1.1 in /opt/conda/lib/python3.10/site-packages (from yfinance->frypto) (1.1)\r\n",
      "Requirement already satisfied: soupsieve>1.2 in /opt/conda/lib/python3.10/site-packages (from beautifulsoup4>=4.11.1->yfinance->frypto) (2.5)\r\n",
      "Requirement already satisfied: six>=1.9 in /opt/conda/lib/python3.10/site-packages (from html5lib>=1.1->yfinance->frypto) (1.16.0)\r\n",
      "Requirement already satisfied: webencodings in /opt/conda/lib/python3.10/site-packages (from html5lib>=1.1->yfinance->frypto) (0.5.1)\r\n",
      "Requirement already satisfied: charset-normalizer<4,>=2 in /opt/conda/lib/python3.10/site-packages (from requests>=2.31->yfinance->frypto) (3.3.2)\r\n",
      "Requirement already satisfied: idna<4,>=2.5 in /opt/conda/lib/python3.10/site-packages (from requests>=2.31->yfinance->frypto) (3.7)\r\n",
      "Requirement already satisfied: urllib3<3,>=1.21.1 in /opt/conda/lib/python3.10/site-packages (from requests>=2.31->yfinance->frypto) (1.26.18)\r\n",
      "Requirement already satisfied: certifi>=2017.4.17 in /opt/conda/lib/python3.10/site-packages (from requests>=2.31->yfinance->frypto) (2024.7.4)\r\n",
      "Downloading frypto-0.1.3-py3-none-any.whl (23 kB)\r\n",
      "Downloading yfinance-0.2.49-py2.py3-none-any.whl (101 kB)\r\n",
      "\u001b[2K   \u001b[90m━━━━━━━━━━━━━━━━━━━━━━━━━━━━━━━━━━━━━━━━\u001b[0m \u001b[32m101.1/101.1 kB\u001b[0m \u001b[31m4.6 MB/s\u001b[0m eta \u001b[36m0:00:00\u001b[0m\r\n",
      "\u001b[?25hDownloading multitasking-0.0.11-py3-none-any.whl (8.5 kB)\r\n",
      "Building wheels for collected packages: peewee\r\n",
      "  Building wheel for peewee (pyproject.toml) ... \u001b[?25l-\b \b\\\b \b|\b \b/\b \bdone\r\n",
      "\u001b[?25h  Created wheel for peewee: filename=peewee-3.17.8-cp310-cp310-linux_x86_64.whl size=317865 sha256=95add1b4ef722d79815525cf4994567774701dee486bf6ed8464819c431414a5\r\n",
      "  Stored in directory: /root/.cache/pip/wheels/75/79/e5/8838db0594cc6c587142fd2563356392ade6255c5930411069\r\n",
      "Successfully built peewee\r\n",
      "Installing collected packages: peewee, multitasking, yfinance, frypto\r\n",
      "Successfully installed frypto-0.1.3 multitasking-0.0.11 peewee-3.17.8 yfinance-0.2.49\r\n"
     ]
    }
   ],
   "source": [
    "!pip install frypto "
   ]
  },
  {
   "cell_type": "markdown",
   "id": "59f64a9a",
   "metadata": {
    "jp-MarkdownHeadingCollapsed": true,
    "papermill": {
     "duration": 0.013045,
     "end_time": "2024-11-16T12:11:19.446532",
     "exception": false,
     "start_time": "2024-11-16T12:11:19.433487",
     "status": "completed"
    },
    "tags": []
   },
   "source": [
    "### Imports"
   ]
  },
  {
   "cell_type": "code",
   "execution_count": 2,
   "id": "e39ccc6f",
   "metadata": {
    "_kg_hide-input": true,
    "execution": {
     "iopub.execute_input": "2024-11-16T12:11:19.476616Z",
     "iopub.status.busy": "2024-11-16T12:11:19.476119Z",
     "iopub.status.idle": "2024-11-16T12:11:27.437420Z",
     "shell.execute_reply": "2024-11-16T12:11:27.436234Z"
    },
    "jupyter": {
     "source_hidden": true
    },
    "papermill": {
     "duration": 7.980322,
     "end_time": "2024-11-16T12:11:27.440664",
     "exception": false,
     "start_time": "2024-11-16T12:11:19.460342",
     "status": "completed"
    },
    "tags": []
   },
   "outputs": [],
   "source": [
    "import frypto\n",
    "\n",
    "import warnings\n",
    "import sys\n",
    "import os\n",
    "import gc\n",
    "import pickle\n",
    "import shutil\n",
    "from pathlib import Path\n",
    "\n",
    "from tqdm import tqdm\n",
    "import numpy as np\n",
    "import pandas as pd\n",
    "import matplotlib.pyplot as plt\n",
    "import seaborn as sns\n",
    "from joblib import Parallel, delayed\n",
    "from lightgbm import LGBMRegressor\n",
    "from sklearn.preprocessing import StandardScaler\n",
    "from sklearn.model_selection import TimeSeriesSplit\n",
    "from sklearn.metrics import mean_squared_error\n",
    "\n",
    "# Ignore DeprecationWarnings and RuntimeWarnings\n",
    "warnings.filterwarnings(\"ignore\", category=DeprecationWarning)\n",
    "warnings.filterwarnings(\"ignore\", category=RuntimeWarning)\n",
    "pd.set_option(\"future.no_silent_downcasting\", True)\n",
    "\n",
    "# Append 'src' directory to sys.path to import local modules\n",
    "sys.path.append('/kaggle/input/source')\n",
    "\n",
    "# Import local modules\n",
    "from utils import (\n",
    "    read_data, fill_timestamps, \n",
    "    optimize_dataframe, weighted_correlation, evaluate_predictions,\n",
    "    reduce_memory_usage, get_time_series_splits\n",
    ")\n"
   ]
  },
  {
   "cell_type": "markdown",
   "id": "d9381e5d",
   "metadata": {
    "jp-MarkdownHeadingCollapsed": true,
    "papermill": {
     "duration": 0.013506,
     "end_time": "2024-11-16T12:11:27.468319",
     "exception": false,
     "start_time": "2024-11-16T12:11:27.454813",
     "status": "completed"
    },
    "tags": []
   },
   "source": [
    "# 2. Data Loading "
   ]
  },
  {
   "cell_type": "markdown",
   "id": "b4871572",
   "metadata": {
    "jp-MarkdownHeadingCollapsed": true,
    "papermill": {
     "duration": 0.013021,
     "end_time": "2024-11-16T12:11:27.495436",
     "exception": false,
     "start_time": "2024-11-16T12:11:27.482415",
     "status": "completed"
    },
    "tags": []
   },
   "source": [
    "### Set up data paths"
   ]
  },
  {
   "cell_type": "code",
   "execution_count": 3,
   "id": "498d2d2d",
   "metadata": {
    "_kg_hide-input": true,
    "execution": {
     "iopub.execute_input": "2024-11-16T12:11:27.524283Z",
     "iopub.status.busy": "2024-11-16T12:11:27.523606Z",
     "iopub.status.idle": "2024-11-16T12:11:27.532312Z",
     "shell.execute_reply": "2024-11-16T12:11:27.531268Z"
    },
    "jupyter": {
     "source_hidden": true
    },
    "papermill": {
     "duration": 0.026289,
     "end_time": "2024-11-16T12:11:27.535078",
     "exception": false,
     "start_time": "2024-11-16T12:11:27.508789",
     "status": "completed"
    },
    "tags": []
   },
   "outputs": [],
   "source": [
    "data_folder = Path('data')\n",
    "outputs_dir = Path('outputs')\n",
    "outputs_dir.mkdir(parents=True, exist_ok=True)\n",
    "model_dir = outputs_dir / 'trained_models'\n",
    "model_dir.mkdir(parents=True, exist_ok=True)\n",
    "results_dir = Path('results')\n",
    "results_dir.mkdir(parents=True, exist_ok=True)\n",
    "feature_importance_dir = results_dir / 'feature_importance_per_asset'\n",
    "feature_importance_dir.mkdir(parents=True, exist_ok=True)"
   ]
  },
  {
   "cell_type": "markdown",
   "id": "04794157",
   "metadata": {
    "jp-MarkdownHeadingCollapsed": true,
    "papermill": {
     "duration": 0.01328,
     "end_time": "2024-11-16T12:11:27.562002",
     "exception": false,
     "start_time": "2024-11-16T12:11:27.548722",
     "status": "completed"
    },
    "tags": []
   },
   "source": [
    "### Load Data"
   ]
  },
  {
   "cell_type": "code",
   "execution_count": 4,
   "id": "b1874c73",
   "metadata": {
    "_kg_hide-input": true,
    "execution": {
     "iopub.execute_input": "2024-11-16T12:11:27.591167Z",
     "iopub.status.busy": "2024-11-16T12:11:27.590291Z",
     "iopub.status.idle": "2024-11-16T12:12:53.787617Z",
     "shell.execute_reply": "2024-11-16T12:12:53.785839Z"
    },
    "jupyter": {
     "source_hidden": true
    },
    "papermill": {
     "duration": 86.214746,
     "end_time": "2024-11-16T12:12:53.790183",
     "exception": false,
     "start_time": "2024-11-16T12:11:27.575437",
     "status": "completed"
    },
    "tags": []
   },
   "outputs": [
    {
     "name": "stdout",
     "output_type": "stream",
     "text": [
      "Memory usage of dataframe is 1849.12 MB\n",
      "Memory usage after optimization is: 716.53 MB\n",
      "Decreased by 61.2%\n"
     ]
    }
   ],
   "source": [
    "train_data_path = data_folder / '/kaggle/input/g-research-crypto-forecasting/train.csv'\n",
    "if train_data_path.exists():\n",
    "    crypto_df = reduce_memory_usage(pd.read_csv(train_data_path))\n",
    "else:\n",
    "    # If 'train.csv' is not available, use 'sample.csv'\n",
    "    sample_data_path = data_folder / 'sample.csv'\n",
    "    if sample_data_path.exists():\n",
    "        crypto_df = reduce_memory_usage(pd.read_csv(sample_data_path))\n",
    "    else:\n",
    "        print(\"No suitable data file found. Please ensure 'train.csv' or 'sample.csv' is available in the 'data' folder.\")\n",
    "        raise FileNotFoundError(\"No data file found in 'data' directory.\")"
   ]
  },
  {
   "cell_type": "code",
   "execution_count": 5,
   "id": "81a007e8",
   "metadata": {
    "execution": {
     "iopub.execute_input": "2024-11-16T12:12:53.819109Z",
     "iopub.status.busy": "2024-11-16T12:12:53.818689Z",
     "iopub.status.idle": "2024-11-16T12:12:53.832815Z",
     "shell.execute_reply": "2024-11-16T12:12:53.831509Z"
    },
    "jupyter": {
     "source_hidden": true
    },
    "papermill": {
     "duration": 0.032039,
     "end_time": "2024-11-16T12:12:53.835728",
     "exception": false,
     "start_time": "2024-11-16T12:12:53.803689",
     "status": "completed"
    },
    "tags": []
   },
   "outputs": [],
   "source": [
    "# Load asset details\n",
    "asset_details_path = data_folder / '/kaggle/input/g-research-crypto-forecasting/asset_details.csv'\n",
    "if asset_details_path.exists():\n",
    "    asset_details = pd.read_csv(asset_details_path)\n",
    "else:\n",
    "    print(\"Asset details file 'asset_details.csv' not found in 'data' directory.\")\n",
    "    raise FileNotFoundError(\"Asset details file not found.\")"
   ]
  },
  {
   "cell_type": "markdown",
   "id": "1f6d35ce",
   "metadata": {
    "jp-MarkdownHeadingCollapsed": true,
    "papermill": {
     "duration": 0.013393,
     "end_time": "2024-11-16T12:12:53.862831",
     "exception": false,
     "start_time": "2024-11-16T12:12:53.849438",
     "status": "completed"
    },
    "tags": []
   },
   "source": [
    "### Fill missing timestamps and fill missing values using backward and forward fill.\n"
   ]
  },
  {
   "cell_type": "code",
   "execution_count": 6,
   "id": "107f8547",
   "metadata": {
    "_kg_hide-input": true,
    "execution": {
     "iopub.execute_input": "2024-11-16T12:12:53.892146Z",
     "iopub.status.busy": "2024-11-16T12:12:53.891446Z",
     "iopub.status.idle": "2024-11-16T12:13:14.132638Z",
     "shell.execute_reply": "2024-11-16T12:13:14.131529Z"
    },
    "jupyter": {
     "source_hidden": true
    },
    "papermill": {
     "duration": 20.259177,
     "end_time": "2024-11-16T12:13:14.135574",
     "exception": false,
     "start_time": "2024-11-16T12:12:53.876397",
     "status": "completed"
    },
    "tags": []
   },
   "outputs": [
    {
     "name": "stdout",
     "output_type": "stream",
     "text": [
      "Memory usage of dataframe is 1989.75 MB\n",
      "Memory usage after optimization is: 945.13 MB\n",
      "Decreased by 52.5%\n"
     ]
    }
   ],
   "source": [
    "preprocessed_assets = []\n",
    "unique_ids = crypto_df['Asset_ID'].unique()\n",
    "for id in unique_ids:\n",
    "    asset_df = fill_timestamps(crypto_df, id)\n",
    "    asset_df.loc[:, 'Asset_ID'] = id\n",
    "    preprocessed_assets.append(asset_df)\n",
    "    \n",
    "del crypto_df\n",
    "gc.collect()\n",
    "\n",
    "preprocessed_df = pd.concat(preprocessed_assets)\n",
    "preprocessed_df.reset_index(inplace=True)\n",
    "preprocessed_df = reduce_memory_usage(preprocessed_df)\n",
    "sorted_indices = np.argsort(preprocessed_df['timestamp'])\n",
    "preprocessed_df = preprocessed_df.iloc[sorted_indices]\n",
    "\n",
    "# Optional: Sample a fraction of the data for faster processing during development\n",
    "# preprocessed_df = preprocessed_df.sample(frac=0.1, random_state=50)"
   ]
  },
  {
   "cell_type": "markdown",
   "id": "ed28ff24",
   "metadata": {
    "jp-MarkdownHeadingCollapsed": true,
    "papermill": {
     "duration": 0.013537,
     "end_time": "2024-11-16T12:13:14.163641",
     "exception": false,
     "start_time": "2024-11-16T12:13:14.150104",
     "status": "completed"
    },
    "tags": []
   },
   "source": [
    "# 3. Feature Engineering (Frypto)\n",
    "\n"
   ]
  },
  {
   "cell_type": "code",
   "execution_count": 7,
   "id": "64ad9d57",
   "metadata": {
    "execution": {
     "iopub.execute_input": "2024-11-16T12:13:14.192826Z",
     "iopub.status.busy": "2024-11-16T12:13:14.192399Z",
     "iopub.status.idle": "2024-11-16T12:21:42.465376Z",
     "shell.execute_reply": "2024-11-16T12:21:42.463942Z"
    },
    "papermill": {
     "duration": 508.291838,
     "end_time": "2024-11-16T12:21:42.469097",
     "exception": false,
     "start_time": "2024-11-16T12:13:14.177259",
     "status": "completed"
    },
    "tags": []
   },
   "outputs": [
    {
     "name": "stdout",
     "output_type": "stream",
     "text": [
      "peak memory: 3923.91 MiB, increment: 0.17 MiB\n",
      "using frypto for Feature engineering 26080043 row....\n",
      "\n"
     ]
    },
    {
     "name": "stderr",
     "output_type": "stream",
     "text": [
      "Processing Assets:   0%|          | 0/14 [00:00<?, ?it/s]"
     ]
    },
    {
     "name": "stdout",
     "output_type": "stream",
     "text": [
      "Feature engineering at asset_id 2\n"
     ]
    },
    {
     "name": "stderr",
     "output_type": "stream",
     "text": [
      "Processing Assets:   7%|▋         | 1/14 [00:11<02:30, 11.58s/it]"
     ]
    },
    {
     "name": "stdout",
     "output_type": "stream",
     "text": [
      "Feature engineering at asset_id 0\n"
     ]
    },
    {
     "name": "stderr",
     "output_type": "stream",
     "text": [
      "Processing Assets:  14%|█▍        | 2/14 [00:26<02:43, 13.59s/it]"
     ]
    },
    {
     "name": "stdout",
     "output_type": "stream",
     "text": [
      "Feature engineering at asset_id 1\n"
     ]
    },
    {
     "name": "stderr",
     "output_type": "stream",
     "text": [
      "Processing Assets:  21%|██▏       | 3/14 [00:46<02:59, 16.27s/it]"
     ]
    },
    {
     "name": "stdout",
     "output_type": "stream",
     "text": [
      "Feature engineering at asset_id 5\n"
     ]
    },
    {
     "name": "stderr",
     "output_type": "stream",
     "text": [
      "Processing Assets:  29%|██▊       | 4/14 [01:09<03:11, 19.14s/it]"
     ]
    },
    {
     "name": "stdout",
     "output_type": "stream",
     "text": [
      "Feature engineering at asset_id 7\n"
     ]
    },
    {
     "name": "stderr",
     "output_type": "stream",
     "text": [
      "Processing Assets:  36%|███▌      | 5/14 [01:37<03:19, 22.18s/it]"
     ]
    },
    {
     "name": "stdout",
     "output_type": "stream",
     "text": [
      "Feature engineering at asset_id 6\n"
     ]
    },
    {
     "name": "stderr",
     "output_type": "stream",
     "text": [
      "Processing Assets:  43%|████▎     | 6/14 [02:08<03:22, 25.35s/it]"
     ]
    },
    {
     "name": "stdout",
     "output_type": "stream",
     "text": [
      "Feature engineering at asset_id 9\n"
     ]
    },
    {
     "name": "stderr",
     "output_type": "stream",
     "text": [
      "Processing Assets:  50%|█████     | 7/14 [02:44<03:21, 28.79s/it]"
     ]
    },
    {
     "name": "stdout",
     "output_type": "stream",
     "text": [
      "Feature engineering at asset_id 11\n"
     ]
    },
    {
     "name": "stderr",
     "output_type": "stream",
     "text": [
      "Processing Assets:  57%|█████▋    | 8/14 [03:24<03:13, 32.32s/it]"
     ]
    },
    {
     "name": "stdout",
     "output_type": "stream",
     "text": [
      "Feature engineering at asset_id 13\n"
     ]
    },
    {
     "name": "stderr",
     "output_type": "stream",
     "text": [
      "Processing Assets:  64%|██████▍   | 9/14 [04:16<03:13, 38.64s/it]"
     ]
    },
    {
     "name": "stdout",
     "output_type": "stream",
     "text": [
      "Feature engineering at asset_id 12\n"
     ]
    },
    {
     "name": "stderr",
     "output_type": "stream",
     "text": [
      "Processing Assets:  71%|███████▏  | 10/14 [05:02<02:43, 40.76s/it]"
     ]
    },
    {
     "name": "stdout",
     "output_type": "stream",
     "text": [
      "Feature engineering at asset_id 3\n"
     ]
    },
    {
     "name": "stderr",
     "output_type": "stream",
     "text": [
      "Processing Assets:  79%|███████▊  | 11/14 [05:51<02:09, 43.19s/it]"
     ]
    },
    {
     "name": "stdout",
     "output_type": "stream",
     "text": [
      "Feature engineering at asset_id 8\n"
     ]
    },
    {
     "name": "stderr",
     "output_type": "stream",
     "text": [
      "Processing Assets:  86%|████████▌ | 12/14 [06:40<01:30, 45.15s/it]"
     ]
    },
    {
     "name": "stdout",
     "output_type": "stream",
     "text": [
      "Feature engineering at asset_id 10\n"
     ]
    },
    {
     "name": "stderr",
     "output_type": "stream",
     "text": [
      "Processing Assets:  93%|█████████▎| 13/14 [07:33<00:47, 47.50s/it]"
     ]
    },
    {
     "name": "stdout",
     "output_type": "stream",
     "text": [
      "Feature engineering at asset_id 4\n"
     ]
    },
    {
     "name": "stderr",
     "output_type": "stream",
     "text": [
      "Processing Assets: 100%|██████████| 14/14 [08:14<00:00, 35.29s/it]\n"
     ]
    },
    {
     "name": "stdout",
     "output_type": "stream",
     "text": [
      "\n",
      "CPU times: user 5min 16s, sys: 3min 11s, total: 8min 27s\n",
      "Wall time: 8min 28s\n"
     ]
    },
    {
     "data": {
      "text/plain": [
       "0"
      ]
     },
     "execution_count": 7,
     "metadata": {},
     "output_type": "execute_result"
    }
   ],
   "source": [
    "%%time\n",
    "%load_ext memory_profiler\n",
    "%memit\n",
    "print(f\"using frypto for Feature engineering {len(preprocessed_df)} row....\\n\")\n",
    "import frypto\n",
    "\n",
    "\n",
    "chunk_size = 100_000  \n",
    "final_df = pd.DataFrame()\n",
    "\n",
    "for asset_id in tqdm(unique_ids, desc=\"Processing Assets\"):\n",
    "    print(f'Feature engineering at asset_id {asset_id}')\n",
    "    asset_df = preprocessed_df[preprocessed_df['Asset_ID'] == asset_id]\n",
    "    \n",
    "    num_chunks = (len(asset_df) // chunk_size) + 1\n",
    "    for i in range(num_chunks):\n",
    "        start_idx = i * chunk_size\n",
    "        end_idx = start_idx + chunk_size\n",
    "        chunk_df = asset_df.iloc[start_idx:end_idx].copy()\n",
    "        feature_engineer = frypto.AllFeatures(chunk_df) # Frypto goes here\n",
    "        df = feature_engineer.compute() # Frypto goes here\n",
    "\n",
    "        # Append processed chunk to final DataFrame\n",
    "        final_df = pd.concat([final_df, df], ignore_index=True)\n",
    "\n",
    "        # Free memory\n",
    "        del chunk_df, feature_engineer\n",
    "        gc.collect()\n",
    "final_df = pd.concat([preprocessed_df, final_df], axis=\"columns\")\n",
    "# del preprocessed_df\n",
    "print()\n",
    "gc.collect()"
   ]
  },
  {
   "cell_type": "code",
   "execution_count": 8,
   "id": "049a11d4",
   "metadata": {
    "execution": {
     "iopub.execute_input": "2024-11-16T12:21:42.508886Z",
     "iopub.status.busy": "2024-11-16T12:21:42.508392Z",
     "iopub.status.idle": "2024-11-16T12:22:06.656726Z",
     "shell.execute_reply": "2024-11-16T12:22:06.655574Z"
    },
    "papermill": {
     "duration": 24.170646,
     "end_time": "2024-11-16T12:22:06.659333",
     "exception": false,
     "start_time": "2024-11-16T12:21:42.488687",
     "status": "completed"
    },
    "tags": []
   },
   "outputs": [
    {
     "name": "stdout",
     "output_type": "stream",
     "text": [
      "Memory usage of dataframe is 7809.77 MB\n",
      "Memory usage after optimization is: 3432.32 MB\n",
      "Decreased by 56.1%\n"
     ]
    },
    {
     "data": {
      "text/html": [
       "<div>\n",
       "<style scoped>\n",
       "    .dataframe tbody tr th:only-of-type {\n",
       "        vertical-align: middle;\n",
       "    }\n",
       "\n",
       "    .dataframe tbody tr th {\n",
       "        vertical-align: top;\n",
       "    }\n",
       "\n",
       "    .dataframe thead th {\n",
       "        text-align: right;\n",
       "    }\n",
       "</style>\n",
       "<table border=\"1\" class=\"dataframe\">\n",
       "  <thead>\n",
       "    <tr style=\"text-align: right;\">\n",
       "      <th></th>\n",
       "      <th>timestamp</th>\n",
       "      <th>Asset_ID</th>\n",
       "      <th>Count</th>\n",
       "      <th>Open</th>\n",
       "      <th>High</th>\n",
       "      <th>Low</th>\n",
       "      <th>Close</th>\n",
       "      <th>Volume</th>\n",
       "      <th>VWAP</th>\n",
       "      <th>Target</th>\n",
       "      <th>...</th>\n",
       "      <th>+DI</th>\n",
       "      <th>-DI</th>\n",
       "      <th>ADX</th>\n",
       "      <th>support_line</th>\n",
       "      <th>resistance_line</th>\n",
       "      <th>tenkan_sen</th>\n",
       "      <th>kijun_sen</th>\n",
       "      <th>senkou_span_a</th>\n",
       "      <th>senkou_span_b</th>\n",
       "      <th>chikou_span</th>\n",
       "    </tr>\n",
       "  </thead>\n",
       "  <tbody>\n",
       "    <tr>\n",
       "      <th>10715724</th>\n",
       "      <td>1570620300</td>\n",
       "      <td>6.0</td>\n",
       "      <td>284.0</td>\n",
       "      <td>183.625000</td>\n",
       "      <td>184.125000</td>\n",
       "      <td>183.000000</td>\n",
       "      <td>183.375000</td>\n",
       "      <td>800.968445</td>\n",
       "      <td>183.418632</td>\n",
       "      <td>-0.000692</td>\n",
       "      <td>...</td>\n",
       "      <td>8.570312</td>\n",
       "      <td>5.714286</td>\n",
       "      <td>32.218750</td>\n",
       "      <td>NaN</td>\n",
       "      <td>NaN</td>\n",
       "      <td>183.750000</td>\n",
       "      <td>184.000000</td>\n",
       "      <td>183.875000</td>\n",
       "      <td>183.500000</td>\n",
       "      <td>183.625000</td>\n",
       "    </tr>\n",
       "    <tr>\n",
       "      <th>21982284</th>\n",
       "      <td>1569636540</td>\n",
       "      <td>8.0</td>\n",
       "      <td>5.0</td>\n",
       "      <td>0.259521</td>\n",
       "      <td>0.259521</td>\n",
       "      <td>0.258301</td>\n",
       "      <td>0.259277</td>\n",
       "      <td>418.940002</td>\n",
       "      <td>0.259176</td>\n",
       "      <td>0.259176</td>\n",
       "      <td>...</td>\n",
       "      <td>11.539062</td>\n",
       "      <td>17.307692</td>\n",
       "      <td>25.953125</td>\n",
       "      <td>0.259277</td>\n",
       "      <td>NaN</td>\n",
       "      <td>0.259766</td>\n",
       "      <td>0.260986</td>\n",
       "      <td>0.261963</td>\n",
       "      <td>0.261963</td>\n",
       "      <td>0.260742</td>\n",
       "    </tr>\n",
       "    <tr>\n",
       "      <th>4624688</th>\n",
       "      <td>1557410940</td>\n",
       "      <td>1.0</td>\n",
       "      <td>338.0</td>\n",
       "      <td>6056.000000</td>\n",
       "      <td>6200.000000</td>\n",
       "      <td>6004.000000</td>\n",
       "      <td>6052.000000</td>\n",
       "      <td>73.862038</td>\n",
       "      <td>6053.387135</td>\n",
       "      <td>0.001380</td>\n",
       "      <td>...</td>\n",
       "      <td>0.263184</td>\n",
       "      <td>0.526316</td>\n",
       "      <td>38.656250</td>\n",
       "      <td>NaN</td>\n",
       "      <td>NaN</td>\n",
       "      <td>6104.000000</td>\n",
       "      <td>6088.000000</td>\n",
       "      <td>6088.000000</td>\n",
       "      <td>6096.000000</td>\n",
       "      <td>6052.000000</td>\n",
       "    </tr>\n",
       "    <tr>\n",
       "      <th>16158711</th>\n",
       "      <td>1548134880</td>\n",
       "      <td>13.0</td>\n",
       "      <td>50.0</td>\n",
       "      <td>0.026031</td>\n",
       "      <td>0.026306</td>\n",
       "      <td>0.025879</td>\n",
       "      <td>0.026031</td>\n",
       "      <td>339841.906250</td>\n",
       "      <td>0.026033</td>\n",
       "      <td>-0.008751</td>\n",
       "      <td>...</td>\n",
       "      <td>50.312500</td>\n",
       "      <td>0.653595</td>\n",
       "      <td>97.000000</td>\n",
       "      <td>NaN</td>\n",
       "      <td>NaN</td>\n",
       "      <td>0.026123</td>\n",
       "      <td>0.026154</td>\n",
       "      <td>0.026123</td>\n",
       "      <td>0.026093</td>\n",
       "      <td>0.025818</td>\n",
       "    </tr>\n",
       "    <tr>\n",
       "      <th>9155368</th>\n",
       "      <td>1594416540</td>\n",
       "      <td>7.0</td>\n",
       "      <td>39.0</td>\n",
       "      <td>6.339844</td>\n",
       "      <td>6.343750</td>\n",
       "      <td>6.332031</td>\n",
       "      <td>6.339844</td>\n",
       "      <td>877.947205</td>\n",
       "      <td>6.338884</td>\n",
       "      <td>0.001445</td>\n",
       "      <td>...</td>\n",
       "      <td>14.632812</td>\n",
       "      <td>9.756098</td>\n",
       "      <td>33.687500</td>\n",
       "      <td>NaN</td>\n",
       "      <td>NaN</td>\n",
       "      <td>6.347656</td>\n",
       "      <td>6.367188</td>\n",
       "      <td>6.363281</td>\n",
       "      <td>6.367188</td>\n",
       "      <td>6.339844</td>\n",
       "    </tr>\n",
       "  </tbody>\n",
       "</table>\n",
       "<p>5 rows × 51 columns</p>\n",
       "</div>"
      ],
      "text/plain": [
       "           timestamp  Asset_ID  Count         Open         High          Low  \\\n",
       "10715724  1570620300       6.0  284.0   183.625000   184.125000   183.000000   \n",
       "21982284  1569636540       8.0    5.0     0.259521     0.259521     0.258301   \n",
       "4624688   1557410940       1.0  338.0  6056.000000  6200.000000  6004.000000   \n",
       "16158711  1548134880      13.0   50.0     0.026031     0.026306     0.025879   \n",
       "9155368   1594416540       7.0   39.0     6.339844     6.343750     6.332031   \n",
       "\n",
       "                Close         Volume         VWAP    Target  ...        +DI  \\\n",
       "10715724   183.375000     800.968445   183.418632 -0.000692  ...   8.570312   \n",
       "21982284     0.259277     418.940002     0.259176  0.259176  ...  11.539062   \n",
       "4624688   6052.000000      73.862038  6053.387135  0.001380  ...   0.263184   \n",
       "16158711     0.026031  339841.906250     0.026033 -0.008751  ...  50.312500   \n",
       "9155368      6.339844     877.947205     6.338884  0.001445  ...  14.632812   \n",
       "\n",
       "                -DI        ADX  support_line  resistance_line   tenkan_sen  \\\n",
       "10715724   5.714286  32.218750           NaN              NaN   183.750000   \n",
       "21982284  17.307692  25.953125      0.259277              NaN     0.259766   \n",
       "4624688    0.526316  38.656250           NaN              NaN  6104.000000   \n",
       "16158711   0.653595  97.000000           NaN              NaN     0.026123   \n",
       "9155368    9.756098  33.687500           NaN              NaN     6.347656   \n",
       "\n",
       "            kijun_sen  senkou_span_a  senkou_span_b  chikou_span  \n",
       "10715724   184.000000     183.875000     183.500000   183.625000  \n",
       "21982284     0.260986       0.261963       0.261963     0.260742  \n",
       "4624688   6088.000000    6088.000000    6096.000000  6052.000000  \n",
       "16158711     0.026154       0.026123       0.026093     0.025818  \n",
       "9155368      6.367188       6.363281       6.367188     6.339844  \n",
       "\n",
       "[5 rows x 51 columns]"
      ]
     },
     "execution_count": 8,
     "metadata": {},
     "output_type": "execute_result"
    }
   ],
   "source": [
    "# Apply memory optimization\n",
    "final_df = reduce_memory_usage(final_df)\n",
    "gc.collect()\n",
    "final_df.sample(5)"
   ]
  },
  {
   "cell_type": "code",
   "execution_count": 9,
   "id": "a231a665",
   "metadata": {
    "execution": {
     "iopub.execute_input": "2024-11-16T12:22:06.697169Z",
     "iopub.status.busy": "2024-11-16T12:22:06.696064Z",
     "iopub.status.idle": "2024-11-16T12:22:06.704413Z",
     "shell.execute_reply": "2024-11-16T12:22:06.703283Z"
    },
    "papermill": {
     "duration": 0.029975,
     "end_time": "2024-11-16T12:22:06.707003",
     "exception": false,
     "start_time": "2024-11-16T12:22:06.677028",
     "status": "completed"
    },
    "tags": []
   },
   "outputs": [
    {
     "data": {
      "text/plain": [
       "Index(['timestamp', 'Asset_ID', 'Count', 'Open', 'High', 'Low', 'Close',\n",
       "       'Volume', 'VWAP', 'Target', 'Price_change', 'next_log_return',\n",
       "       'high_low_spread', 'close_open_spread', 'rolling_std', 'upper_band',\n",
       "       'lower_band', 'ATR', 'RSI', 'MACD', 'Signal_Line', 'SMA', 'EMA', 'ROC',\n",
       "       'Skew_20', 'Kurtosis_20', 'ZScore_20', 'volume_change', 'OBV', 'lag_1',\n",
       "       'lag_2', 'lag_3', 'rolling_mean_5', 'rolling_max_5', 'rolling_min_5',\n",
       "       'rolling_mean_10', 'rolling_max_10', 'rolling_min_10',\n",
       "       'rolling_mean_20', 'rolling_max_20', 'rolling_min_20', '+DI', '-DI',\n",
       "       'ADX', 'support_line', 'resistance_line', 'tenkan_sen', 'kijun_sen',\n",
       "       'senkou_span_a', 'senkou_span_b', 'chikou_span'],\n",
       "      dtype='object')"
      ]
     },
     "execution_count": 9,
     "metadata": {},
     "output_type": "execute_result"
    }
   ],
   "source": [
    "final_df.columns"
   ]
  },
  {
   "cell_type": "markdown",
   "id": "bd1e384c",
   "metadata": {
    "papermill": {
     "duration": 0.01738,
     "end_time": "2024-11-16T12:22:06.742071",
     "exception": false,
     "start_time": "2024-11-16T12:22:06.724691",
     "status": "completed"
    },
    "tags": []
   },
   "source": [
    "Taking samples from the dataset to train the models faster"
   ]
  },
  {
   "cell_type": "code",
   "execution_count": 10,
   "id": "715dfc4b",
   "metadata": {
    "_kg_hide-output": true,
    "execution": {
     "iopub.execute_input": "2024-11-16T12:22:06.779285Z",
     "iopub.status.busy": "2024-11-16T12:22:06.778809Z",
     "iopub.status.idle": "2024-11-16T12:22:12.474938Z",
     "shell.execute_reply": "2024-11-16T12:22:12.473866Z"
    },
    "papermill": {
     "duration": 5.718252,
     "end_time": "2024-11-16T12:22:12.477978",
     "exception": false,
     "start_time": "2024-11-16T12:22:06.759726",
     "status": "completed"
    },
    "tags": []
   },
   "outputs": [],
   "source": [
    "df_with_features = final_df.sample(frac=0.1, random_state=50)\n",
    "df_without_features = preprocessed_df.sample(frac=0.1, random_state=50)"
   ]
  },
  {
   "cell_type": "markdown",
   "id": "c45f6b90",
   "metadata": {
    "jp-MarkdownHeadingCollapsed": true,
    "papermill": {
     "duration": 0.017344,
     "end_time": "2024-11-16T12:22:12.513001",
     "exception": false,
     "start_time": "2024-11-16T12:22:12.495657",
     "status": "completed"
    },
    "tags": []
   },
   "source": [
    "# 4. Training Models"
   ]
  },
  {
   "cell_type": "markdown",
   "id": "1a1269cf",
   "metadata": {
    "jp-MarkdownHeadingCollapsed": true,
    "papermill": {
     "duration": 0.01739,
     "end_time": "2024-11-16T12:22:12.548081",
     "exception": false,
     "start_time": "2024-11-16T12:22:12.530691",
     "status": "completed"
    },
    "tags": []
   },
   "source": [
    "### Training function"
   ]
  },
  {
   "cell_type": "code",
   "execution_count": 11,
   "id": "f621d283",
   "metadata": {
    "_kg_hide-input": true,
    "execution": {
     "iopub.execute_input": "2024-11-16T12:22:12.585408Z",
     "iopub.status.busy": "2024-11-16T12:22:12.584956Z",
     "iopub.status.idle": "2024-11-16T12:22:12.613736Z",
     "shell.execute_reply": "2024-11-16T12:22:12.612514Z"
    },
    "jupyter": {
     "source_hidden": true
    },
    "papermill": {
     "duration": 0.050893,
     "end_time": "2024-11-16T12:22:12.616569",
     "exception": false,
     "start_time": "2024-11-16T12:22:12.565676",
     "status": "completed"
    },
    "tags": []
   },
   "outputs": [],
   "source": [
    "EXCLUDE_COLUMNS = ['timestamp', 'Asset_ID', 'Date', 'Target', 'Volume', 'Count']\n",
    "def train_models(df, dataset_name):\n",
    "    print(f\"\\nTraining models on dataset: {dataset_name}\")\n",
    "    \n",
    "    # Initialize variables for storing results\n",
    "    oof_predictions = []\n",
    "    oof_targets = []\n",
    "    feature_importances = pd.DataFrame()\n",
    "    \n",
    "    # Get the unique asset IDs\n",
    "    unique_ids = df['Asset_ID'].unique()\n",
    "    \n",
    "    for asset_id in unique_ids:\n",
    "        print(f\"\\nTraining model for Asset ID {asset_id}\")\n",
    "        \n",
    "        # Filter data for the asset\n",
    "        asset_data = df[df['Asset_ID'] == asset_id].copy()\n",
    "        asset_data.reset_index(drop=True, inplace=True)\n",
    "        \n",
    "        # Skip assets with insufficient data\n",
    "        if len(asset_data) < 500:\n",
    "            print(f\"Not enough data for Asset ID {asset_id}. Skipping.\")\n",
    "            continue\n",
    "        \n",
    "        # Define features and target\n",
    "        TARGET = 'Target'\n",
    "        FEATURES = [col for col in asset_data.columns if col not in EXCLUDE_COLUMNS]\n",
    "        \n",
    "        # Handle missing values and ensure numeric data\n",
    "        asset_data[FEATURES] = asset_data[FEATURES].apply(pd.to_numeric, errors='coerce')\n",
    "        asset_data[FEATURES] = asset_data[FEATURES].fillna(0)\n",
    "        asset_data[TARGET] = asset_data[TARGET].fillna(0)\n",
    "        \n",
    "        # Initialize OOF predictions\n",
    "        oof_pred = np.zeros(len(asset_data))\n",
    "        \n",
    "        # Time series split\n",
    "        tscv = TimeSeriesSplit(n_splits=5)\n",
    "        for fold, (train_idx, valid_idx) in enumerate(tscv.split(asset_data)):\n",
    "            print(f\"Fold {fold + 1}\")\n",
    "            \n",
    "            X_train, X_valid = asset_data.loc[train_idx, FEATURES], asset_data.loc[valid_idx, FEATURES]\n",
    "            y_train, y_valid = asset_data.loc[train_idx, TARGET], asset_data.loc[valid_idx, TARGET]\n",
    "\n",
    "            # Replace infinite values and fill NaNs with appropriate values in features\n",
    "            X_train.replace([np.inf, -np.inf], np.nan, inplace=True)\n",
    "            X_valid.replace([np.inf, -np.inf], np.nan, inplace=True)\n",
    "            X_train.fillna(0, inplace=True)\n",
    "            X_valid.fillna(0, inplace=True)\n",
    "    \n",
    "            # Replace infinite values and fill NaNs in target variable\n",
    "            y_train.replace([np.inf, -np.inf], np.nan, inplace=True)\n",
    "            y_valid.replace([np.inf, -np.inf], np.nan, inplace=True)\n",
    "            y_train.fillna(0, inplace=True)\n",
    "            y_valid.fillna(0, inplace=True)\n",
    "    \n",
    "            # Ensure that there are no more invalid values in the target\n",
    "            if np.isnan(y_train.values).any() or np.isinf(y_train.values).any():\n",
    "                print(\"There are still NaN or infinite values in y_train after cleaning.\")\n",
    "                continue\n",
    "            if np.isnan(y_valid.values).any() or np.isinf(y_valid.values).any():\n",
    "                print(\"There are still NaN or infinite values in y_valid after cleaning.\")\n",
    "                continue\n",
    "            \n",
    "            # Scale the data\n",
    "            scaler = StandardScaler()\n",
    "            X_train_scaled = scaler.fit_transform(X_train)\n",
    "            X_valid_scaled = scaler.transform(X_valid)\n",
    "            \n",
    "            # Initialize and train the model\n",
    "            model = LGBMRegressor(\n",
    "                objective='regression',\n",
    "                learning_rate=0.05,\n",
    "                num_leaves=31,\n",
    "                n_estimators=500,\n",
    "                random_state=42 + fold,\n",
    "                n_jobs=-1,\n",
    "                verbosity=1\n",
    "                \n",
    "            )\n",
    "            model.fit(\n",
    "                X_train_scaled, y_train,\n",
    "                eval_set=[(X_valid_scaled, y_valid)],\n",
    "                eval_metric='rmse',\n",
    "            )\n",
    "            \n",
    "            # Predict on validation set\n",
    "            y_pred_valid = model.predict(X_valid_scaled)\n",
    "            oof_pred[valid_idx] = y_pred_valid\n",
    "            \n",
    "            # Collect feature importances\n",
    "            fold_importance_df = pd.DataFrame()\n",
    "            fold_importance_df[\"feature\"] = FEATURES\n",
    "            fold_importance_df[\"importance\"] = model.feature_importances_\n",
    "            fold_importance_df[\"fold\"] = fold + 1\n",
    "            fold_importance_df[\"asset_id\"] = asset_id\n",
    "            feature_importances = pd.concat([feature_importances, fold_importance_df], axis=0)\n",
    "            \n",
    "            # Clean up\n",
    "            del X_train, X_valid, y_train, y_valid, X_train_scaled, X_valid_scaled\n",
    "            gc.collect()\n",
    "        \n",
    "        # Calculate OOF RMSE for the asset\n",
    "        asset_rmse = np.sqrt(mean_squared_error(asset_data[TARGET], oof_pred))\n",
    "        print(f\"Asset ID {asset_id} OOF RMSE: {asset_rmse:.6f}\")\n",
    "        \n",
    "        # Store predictions and targets\n",
    "        oof_predictions.extend(oof_pred)\n",
    "        oof_targets.extend(asset_data[TARGET])\n",
    "        \n",
    "        # Clean up\n",
    "        del asset_data, oof_pred\n",
    "        gc.collect()\n",
    "    \n",
    "    # Calculate overall OOF RMSE\n",
    "    overall_rmse = np.sqrt(mean_squared_error(oof_targets, oof_predictions))\n",
    "    print(f\"\\nOverall OOF RMSE for dataset '{dataset_name}': {overall_rmse:.6f}\")\n",
    "    \n",
    "    return oof_predictions, oof_targets, feature_importances\n",
    "\n"
   ]
  },
  {
   "cell_type": "markdown",
   "id": "f6b9f113",
   "metadata": {
    "jp-MarkdownHeadingCollapsed": true,
    "papermill": {
     "duration": 0.017735,
     "end_time": "2024-11-16T12:22:12.652122",
     "exception": false,
     "start_time": "2024-11-16T12:22:12.634387",
     "status": "completed"
    },
    "tags": []
   },
   "source": [
    "### Train the model on the dataset with and without frypto features"
   ]
  },
  {
   "cell_type": "code",
   "execution_count": 12,
   "id": "7ae4ea18",
   "metadata": {
    "_kg_hide-input": true,
    "_kg_hide-output": true,
    "execution": {
     "iopub.execute_input": "2024-11-16T12:22:12.689590Z",
     "iopub.status.busy": "2024-11-16T12:22:12.689105Z",
     "iopub.status.idle": "2024-11-16T12:50:28.061134Z",
     "shell.execute_reply": "2024-11-16T12:50:28.059853Z"
    },
    "papermill": {
     "duration": 1695.393919,
     "end_time": "2024-11-16T12:50:28.063751",
     "exception": false,
     "start_time": "2024-11-16T12:22:12.669832",
     "status": "completed"
    },
    "tags": []
   },
   "outputs": [
    {
     "name": "stdout",
     "output_type": "stream",
     "text": [
      "\n",
      "Training models on dataset: with_features\n",
      "\n",
      "Training model for Asset ID 12.0\n",
      "Fold 1\n",
      "[LightGBM] [Info] Auto-choosing col-wise multi-threading, the overhead of testing was 0.010852 seconds.\n",
      "You can set `force_col_wise=true` to remove the overhead.\n",
      "[LightGBM] [Info] Total Bins 11342\n",
      "[LightGBM] [Info] Number of data points in the train set: 31420, number of used features: 46\n",
      "[LightGBM] [Info] Start training from score 0.027081\n",
      "Fold 2\n",
      "[LightGBM] [Info] Auto-choosing col-wise multi-threading, the overhead of testing was 0.058606 seconds.\n",
      "You can set `force_col_wise=true` to remove the overhead.\n",
      "[LightGBM] [Info] Total Bins 11379\n",
      "[LightGBM] [Info] Number of data points in the train set: 62840, number of used features: 46\n",
      "[LightGBM] [Info] Start training from score 0.026875\n",
      "Fold 3\n",
      "[LightGBM] [Info] Auto-choosing col-wise multi-threading, the overhead of testing was 0.088484 seconds.\n",
      "You can set `force_col_wise=true` to remove the overhead.\n",
      "[LightGBM] [Info] Total Bins 11413\n",
      "[LightGBM] [Info] Number of data points in the train set: 94260, number of used features: 46\n",
      "[LightGBM] [Info] Start training from score 0.026695\n",
      "Fold 4\n",
      "[LightGBM] [Info] Auto-choosing col-wise multi-threading, the overhead of testing was 0.119361 seconds.\n",
      "You can set `force_col_wise=true` to remove the overhead.\n",
      "[LightGBM] [Info] Total Bins 11423\n",
      "[LightGBM] [Info] Number of data points in the train set: 125680, number of used features: 46\n",
      "[LightGBM] [Info] Start training from score 0.026707\n",
      "Fold 5\n",
      "[LightGBM] [Info] Auto-choosing col-wise multi-threading, the overhead of testing was 0.183780 seconds.\n",
      "You can set `force_col_wise=true` to remove the overhead.\n",
      "[LightGBM] [Info] Total Bins 11477\n",
      "[LightGBM] [Info] Number of data points in the train set: 157100, number of used features: 46\n",
      "[LightGBM] [Info] Start training from score 0.026544\n",
      "Asset ID 12.0 OOF RMSE: 0.048628\n",
      "\n",
      "Training model for Asset ID 4.0\n",
      "Fold 1\n",
      "[LightGBM] [Info] Auto-choosing col-wise multi-threading, the overhead of testing was 0.019931 seconds.\n",
      "You can set `force_col_wise=true` to remove the overhead.\n",
      "[LightGBM] [Info] Total Bins 11346\n",
      "[LightGBM] [Info] Number of data points in the train set: 21354, number of used features: 46\n",
      "[LightGBM] [Info] Start training from score 0.000539\n",
      "Fold 2\n",
      "[LightGBM] [Info] Auto-choosing col-wise multi-threading, the overhead of testing was 0.040464 seconds.\n",
      "You can set `force_col_wise=true` to remove the overhead.\n",
      "[LightGBM] [Info] Total Bins 11423\n",
      "[LightGBM] [Info] Number of data points in the train set: 42706, number of used features: 46\n",
      "[LightGBM] [Info] Start training from score 0.000580\n",
      "Fold 3\n",
      "[LightGBM] [Info] Auto-choosing col-wise multi-threading, the overhead of testing was 0.060330 seconds.\n",
      "You can set `force_col_wise=true` to remove the overhead.\n",
      "[LightGBM] [Info] Total Bins 11464\n",
      "[LightGBM] [Info] Number of data points in the train set: 64058, number of used features: 46\n",
      "[LightGBM] [Info] Start training from score 0.000581\n",
      "Fold 4\n",
      "[LightGBM] [Info] Auto-choosing col-wise multi-threading, the overhead of testing was 0.080302 seconds.\n",
      "You can set `force_col_wise=true` to remove the overhead.\n",
      "[LightGBM] [Info] Total Bins 11503\n",
      "[LightGBM] [Info] Number of data points in the train set: 85410, number of used features: 46\n",
      "[LightGBM] [Info] Start training from score 0.000578\n",
      "Fold 5\n",
      "[LightGBM] [Info] Auto-choosing col-wise multi-threading, the overhead of testing was 0.100710 seconds.\n",
      "You can set `force_col_wise=true` to remove the overhead.\n",
      "[LightGBM] [Info] Total Bins 11518\n",
      "[LightGBM] [Info] Number of data points in the train set: 106762, number of used features: 46\n",
      "[LightGBM] [Info] Start training from score 0.000563\n",
      "Asset ID 4.0 OOF RMSE: 0.007348\n",
      "\n",
      "Training model for Asset ID 13.0\n",
      "Fold 1\n",
      "[LightGBM] [Info] Auto-choosing col-wise multi-threading, the overhead of testing was 0.029705 seconds.\n",
      "You can set `force_col_wise=true` to remove the overhead.\n",
      "[LightGBM] [Info] Total Bins 11268\n",
      "[LightGBM] [Info] Number of data points in the train set: 31727, number of used features: 46\n",
      "[LightGBM] [Info] Start training from score 0.001327\n",
      "Fold 2\n",
      "[LightGBM] [Info] Auto-choosing col-wise multi-threading, the overhead of testing was 0.059331 seconds.\n",
      "You can set `force_col_wise=true` to remove the overhead.\n",
      "[LightGBM] [Info] Total Bins 11315\n",
      "[LightGBM] [Info] Number of data points in the train set: 63453, number of used features: 46\n",
      "[LightGBM] [Info] Start training from score 0.001320\n",
      "Fold 3\n",
      "[LightGBM] [Info] Auto-choosing col-wise multi-threading, the overhead of testing was 0.090420 seconds.\n",
      "You can set `force_col_wise=true` to remove the overhead.\n",
      "[LightGBM] [Info] Total Bins 11343\n",
      "[LightGBM] [Info] Number of data points in the train set: 95179, number of used features: 46\n",
      "[LightGBM] [Info] Start training from score 0.001335\n",
      "Fold 4\n",
      "[LightGBM] [Info] Auto-choosing col-wise multi-threading, the overhead of testing was 0.119120 seconds.\n",
      "You can set `force_col_wise=true` to remove the overhead.\n",
      "[LightGBM] [Info] Total Bins 11318\n",
      "[LightGBM] [Info] Number of data points in the train set: 126905, number of used features: 46\n",
      "[LightGBM] [Info] Start training from score 0.001312\n",
      "Fold 5\n",
      "[LightGBM] [Info] Auto-choosing col-wise multi-threading, the overhead of testing was 0.148161 seconds.\n",
      "You can set `force_col_wise=true` to remove the overhead.\n",
      "[LightGBM] [Info] Total Bins 11332\n",
      "[LightGBM] [Info] Number of data points in the train set: 158631, number of used features: 46\n",
      "[LightGBM] [Info] Start training from score 0.001314\n",
      "Asset ID 13.0 OOF RMSE: 0.007176\n",
      "\n",
      "Training model for Asset ID 9.0\n",
      "Fold 1\n",
      "[LightGBM] [Info] Auto-choosing col-wise multi-threading, the overhead of testing was 0.030673 seconds.\n",
      "You can set `force_col_wise=true` to remove the overhead.\n",
      "[LightGBM] [Info] Total Bins 11366\n",
      "[LightGBM] [Info] Number of data points in the train set: 32530, number of used features: 46\n",
      "[LightGBM] [Info] Start training from score 0.029553\n",
      "Fold 2\n",
      "[LightGBM] [Info] Auto-choosing col-wise multi-threading, the overhead of testing was 0.060797 seconds.\n",
      "You can set `force_col_wise=true` to remove the overhead.\n",
      "[LightGBM] [Info] Total Bins 11413\n",
      "[LightGBM] [Info] Number of data points in the train set: 65056, number of used features: 46\n",
      "[LightGBM] [Info] Start training from score 0.033191\n",
      "Fold 3\n",
      "[LightGBM] [Info] Auto-choosing col-wise multi-threading, the overhead of testing was 0.091300 seconds.\n",
      "You can set `force_col_wise=true` to remove the overhead.\n",
      "[LightGBM] [Info] Total Bins 11434\n",
      "[LightGBM] [Info] Number of data points in the train set: 97582, number of used features: 46\n",
      "[LightGBM] [Info] Start training from score 0.036760\n",
      "Fold 4\n",
      "[LightGBM] [Info] Auto-choosing col-wise multi-threading, the overhead of testing was 0.123549 seconds.\n",
      "You can set `force_col_wise=true` to remove the overhead.\n",
      "[LightGBM] [Info] Total Bins 11446\n",
      "[LightGBM] [Info] Number of data points in the train set: 130108, number of used features: 46\n",
      "[LightGBM] [Info] Start training from score 0.037939\n",
      "Fold 5\n",
      "[LightGBM] [Info] Auto-choosing col-wise multi-threading, the overhead of testing was 0.184283 seconds.\n",
      "You can set `force_col_wise=true` to remove the overhead.\n",
      "[LightGBM] [Info] Total Bins 11464\n",
      "[LightGBM] [Info] Number of data points in the train set: 162634, number of used features: 46\n",
      "[LightGBM] [Info] Start training from score 0.037323\n",
      "Asset ID 9.0 OOF RMSE: 1.275368\n",
      "\n",
      "Training model for Asset ID 10.0\n",
      "Fold 1\n",
      "[LightGBM] [Info] Auto-choosing col-wise multi-threading, the overhead of testing was 0.027668 seconds.\n",
      "You can set `force_col_wise=true` to remove the overhead.\n",
      "[LightGBM] [Info] Total Bins 11246\n",
      "[LightGBM] [Info] Number of data points in the train set: 29543, number of used features: 46\n",
      "[LightGBM] [Info] Start training from score 349.547711\n",
      "Fold 2\n",
      "[LightGBM] [Info] Auto-choosing col-wise multi-threading, the overhead of testing was 0.055859 seconds.\n",
      "You can set `force_col_wise=true` to remove the overhead.\n",
      "[LightGBM] [Info] Total Bins 11282\n",
      "[LightGBM] [Info] Number of data points in the train set: 59082, number of used features: 46\n",
      "[LightGBM] [Info] Start training from score 348.148407\n",
      "Fold 3\n",
      "[LightGBM] [Info] Auto-choosing col-wise multi-threading, the overhead of testing was 0.083377 seconds.\n",
      "You can set `force_col_wise=true` to remove the overhead.\n",
      "[LightGBM] [Info] Total Bins 11322\n",
      "[LightGBM] [Info] Number of data points in the train set: 88621, number of used features: 46\n",
      "[LightGBM] [Info] Start training from score 348.900612\n",
      "Fold 4\n",
      "[LightGBM] [Info] Auto-choosing col-wise multi-threading, the overhead of testing was 0.112122 seconds.\n",
      "You can set `force_col_wise=true` to remove the overhead.\n",
      "[LightGBM] [Info] Total Bins 11338\n",
      "[LightGBM] [Info] Number of data points in the train set: 118160, number of used features: 46\n",
      "[LightGBM] [Info] Start training from score 348.255038\n",
      "Fold 5\n",
      "[LightGBM] [Info] Auto-choosing col-wise multi-threading, the overhead of testing was 0.139679 seconds.\n",
      "You can set `force_col_wise=true` to remove the overhead.\n",
      "[LightGBM] [Info] Total Bins 11375\n",
      "[LightGBM] [Info] Number of data points in the train set: 147699, number of used features: 46\n",
      "[LightGBM] [Info] Start training from score 348.084566\n",
      "Asset ID 10.0 OOF RMSE: 199.360209\n",
      "\n",
      "Training model for Asset ID 5.0\n",
      "Fold 1\n",
      "[LightGBM] [Info] Auto-choosing col-wise multi-threading, the overhead of testing was 0.035282 seconds.\n",
      "You can set `force_col_wise=true` to remove the overhead.\n",
      "[LightGBM] [Info] Total Bins 11322\n",
      "[LightGBM] [Info] Number of data points in the train set: 32793, number of used features: 46\n",
      "[LightGBM] [Info] Start training from score 0.014036\n",
      "Fold 2\n",
      "[LightGBM] [Info] Auto-choosing col-wise multi-threading, the overhead of testing was 0.061664 seconds.\n",
      "You can set `force_col_wise=true` to remove the overhead.\n",
      "[LightGBM] [Info] Total Bins 11386\n",
      "[LightGBM] [Info] Number of data points in the train set: 65585, number of used features: 46\n",
      "[LightGBM] [Info] Start training from score 0.015302\n",
      "Fold 3\n",
      "[LightGBM] [Info] Auto-choosing col-wise multi-threading, the overhead of testing was 0.092403 seconds.\n",
      "You can set `force_col_wise=true` to remove the overhead.\n",
      "[LightGBM] [Info] Total Bins 11396\n",
      "[LightGBM] [Info] Number of data points in the train set: 98377, number of used features: 46\n",
      "[LightGBM] [Info] Start training from score 0.014547\n",
      "Fold 4\n",
      "[LightGBM] [Info] Auto-choosing col-wise multi-threading, the overhead of testing was 0.123972 seconds.\n",
      "You can set `force_col_wise=true` to remove the overhead.\n",
      "[LightGBM] [Info] Total Bins 11447\n",
      "[LightGBM] [Info] Number of data points in the train set: 131169, number of used features: 46\n",
      "[LightGBM] [Info] Start training from score 0.013832\n",
      "Fold 5\n",
      "[LightGBM] [Info] Auto-choosing col-wise multi-threading, the overhead of testing was 0.157184 seconds.\n",
      "You can set `force_col_wise=true` to remove the overhead.\n",
      "[LightGBM] [Info] Total Bins 11466\n",
      "[LightGBM] [Info] Number of data points in the train set: 163961, number of used features: 46\n",
      "[LightGBM] [Info] Start training from score 0.013787\n",
      "Asset ID 5.0 OOF RMSE: 0.306599\n",
      "\n",
      "Training model for Asset ID 11.0\n",
      "Fold 1\n",
      "[LightGBM] [Info] Auto-choosing col-wise multi-threading, the overhead of testing was 0.030773 seconds.\n",
      "You can set `force_col_wise=true` to remove the overhead.\n",
      "[LightGBM] [Info] Total Bins 11303\n",
      "[LightGBM] [Info] Number of data points in the train set: 32656, number of used features: 46\n",
      "[LightGBM] [Info] Start training from score 29.815672\n",
      "Fold 2\n",
      "[LightGBM] [Info] Auto-choosing col-wise multi-threading, the overhead of testing was 0.060556 seconds.\n",
      "You can set `force_col_wise=true` to remove the overhead.\n",
      "[LightGBM] [Info] Total Bins 11358\n",
      "[LightGBM] [Info] Number of data points in the train set: 65309, number of used features: 46\n",
      "[LightGBM] [Info] Start training from score 30.099871\n",
      "Fold 3\n",
      "[LightGBM] [Info] Auto-choosing col-wise multi-threading, the overhead of testing was 0.091320 seconds.\n",
      "You can set `force_col_wise=true` to remove the overhead.\n",
      "[LightGBM] [Info] Total Bins 11392\n",
      "[LightGBM] [Info] Number of data points in the train set: 97962, number of used features: 46\n",
      "[LightGBM] [Info] Start training from score 29.881420\n",
      "Fold 4\n",
      "[LightGBM] [Info] Auto-choosing col-wise multi-threading, the overhead of testing was 0.124319 seconds.\n",
      "You can set `force_col_wise=true` to remove the overhead.\n",
      "[LightGBM] [Info] Total Bins 11405\n",
      "[LightGBM] [Info] Number of data points in the train set: 130615, number of used features: 46\n",
      "[LightGBM] [Info] Start training from score 29.795109\n",
      "Fold 5\n",
      "[LightGBM] [Info] Auto-choosing col-wise multi-threading, the overhead of testing was 0.153103 seconds.\n",
      "You can set `force_col_wise=true` to remove the overhead.\n",
      "[LightGBM] [Info] Total Bins 11437\n",
      "[LightGBM] [Info] Number of data points in the train set: 163268, number of used features: 46\n",
      "[LightGBM] [Info] Start training from score 29.778694\n",
      "Asset ID 11.0 OOF RMSE: 45.325902\n",
      "\n",
      "Training model for Asset ID 2.0\n",
      "Fold 1\n",
      "[LightGBM] [Info] Auto-choosing col-wise multi-threading, the overhead of testing was 0.030603 seconds.\n",
      "You can set `force_col_wise=true` to remove the overhead.\n",
      "[LightGBM] [Info] Total Bins 11410\n",
      "[LightGBM] [Info] Number of data points in the train set: 32631, number of used features: 46\n",
      "[LightGBM] [Info] Start training from score 0.882628\n",
      "Fold 2\n",
      "[LightGBM] [Info] Auto-choosing col-wise multi-threading, the overhead of testing was 0.061202 seconds.\n",
      "You can set `force_col_wise=true` to remove the overhead.\n",
      "[LightGBM] [Info] Total Bins 11472\n",
      "[LightGBM] [Info] Number of data points in the train set: 65257, number of used features: 46\n",
      "[LightGBM] [Info] Start training from score 0.792454\n",
      "Fold 3\n",
      "[LightGBM] [Info] Auto-choosing col-wise multi-threading, the overhead of testing was 0.092666 seconds.\n",
      "You can set `force_col_wise=true` to remove the overhead.\n",
      "[LightGBM] [Info] Total Bins 11441\n",
      "[LightGBM] [Info] Number of data points in the train set: 97883, number of used features: 46\n",
      "[LightGBM] [Info] Start training from score 0.792883\n",
      "Fold 4\n",
      "[LightGBM] [Info] Auto-choosing col-wise multi-threading, the overhead of testing was 0.122236 seconds.\n",
      "You can set `force_col_wise=true` to remove the overhead.\n",
      "[LightGBM] [Info] Total Bins 11472\n",
      "[LightGBM] [Info] Number of data points in the train set: 130509, number of used features: 46\n",
      "[LightGBM] [Info] Start training from score 0.803274\n",
      "Fold 5\n",
      "[LightGBM] [Info] Auto-choosing col-wise multi-threading, the overhead of testing was 0.155467 seconds.\n",
      "You can set `force_col_wise=true` to remove the overhead.\n",
      "[LightGBM] [Info] Total Bins 11482\n",
      "[LightGBM] [Info] Number of data points in the train set: 163135, number of used features: 46\n",
      "[LightGBM] [Info] Start training from score 0.809144\n",
      "Asset ID 2.0 OOF RMSE: 14.136266\n",
      "\n",
      "Training model for Asset ID 6.0\n",
      "Fold 1\n",
      "[LightGBM] [Info] Auto-choosing col-wise multi-threading, the overhead of testing was 0.030632 seconds.\n",
      "You can set `force_col_wise=true` to remove the overhead.\n",
      "[LightGBM] [Info] Total Bins 11351\n",
      "[LightGBM] [Info] Number of data points in the train set: 32692, number of used features: 46\n",
      "[LightGBM] [Info] Start training from score 0.299714\n",
      "Fold 2\n",
      "[LightGBM] [Info] Auto-choosing col-wise multi-threading, the overhead of testing was 0.061194 seconds.\n",
      "You can set `force_col_wise=true` to remove the overhead.\n",
      "[LightGBM] [Info] Total Bins 11397\n",
      "[LightGBM] [Info] Number of data points in the train set: 65383, number of used features: 46\n",
      "[LightGBM] [Info] Start training from score 0.197970\n",
      "Fold 3\n",
      "[LightGBM] [Info] Auto-choosing col-wise multi-threading, the overhead of testing was 0.092170 seconds.\n",
      "You can set `force_col_wise=true` to remove the overhead.\n",
      "[LightGBM] [Info] Total Bins 11437\n",
      "[LightGBM] [Info] Number of data points in the train set: 98074, number of used features: 46\n",
      "[LightGBM] [Info] Start training from score 0.178297\n",
      "Fold 4\n",
      "[LightGBM] [Info] Auto-choosing col-wise multi-threading, the overhead of testing was 0.125241 seconds.\n",
      "You can set `force_col_wise=true` to remove the overhead.\n",
      "[LightGBM] [Info] Total Bins 11457\n",
      "[LightGBM] [Info] Number of data points in the train set: 130765, number of used features: 46\n",
      "[LightGBM] [Info] Start training from score 0.153631\n",
      "Fold 5\n",
      "[LightGBM] [Info] Auto-choosing col-wise multi-threading, the overhead of testing was 0.154056 seconds.\n",
      "You can set `force_col_wise=true` to remove the overhead.\n",
      "[LightGBM] [Info] Total Bins 11477\n",
      "[LightGBM] [Info] Number of data points in the train set: 163456, number of used features: 46\n",
      "[LightGBM] [Info] Start training from score 0.161020\n",
      "Asset ID 6.0 OOF RMSE: 16.290422\n",
      "\n",
      "Training model for Asset ID 0.0\n",
      "Fold 1\n",
      "[LightGBM] [Info] Auto-choosing col-wise multi-threading, the overhead of testing was 0.030603 seconds.\n",
      "You can set `force_col_wise=true` to remove the overhead.\n",
      "[LightGBM] [Info] Total Bins 11295\n",
      "[LightGBM] [Info] Number of data points in the train set: 32668, number of used features: 46\n",
      "[LightGBM] [Info] Start training from score 0.200903\n",
      "Fold 2\n",
      "[LightGBM] [Info] Auto-choosing col-wise multi-threading, the overhead of testing was 0.064475 seconds.\n",
      "You can set `force_col_wise=true` to remove the overhead.\n",
      "[LightGBM] [Info] Total Bins 11311\n",
      "[LightGBM] [Info] Number of data points in the train set: 65335, number of used features: 46\n",
      "[LightGBM] [Info] Start training from score 0.193301\n",
      "Fold 3\n",
      "[LightGBM] [Info] Auto-choosing col-wise multi-threading, the overhead of testing was 0.090974 seconds.\n",
      "You can set `force_col_wise=true` to remove the overhead.\n",
      "[LightGBM] [Info] Total Bins 11335\n",
      "[LightGBM] [Info] Number of data points in the train set: 98002, number of used features: 46\n",
      "[LightGBM] [Info] Start training from score 0.192252\n",
      "Fold 4\n",
      "[LightGBM] [Info] Auto-choosing col-wise multi-threading, the overhead of testing was 0.120532 seconds.\n",
      "You can set `force_col_wise=true` to remove the overhead.\n",
      "[LightGBM] [Info] Total Bins 11369\n",
      "[LightGBM] [Info] Number of data points in the train set: 130669, number of used features: 46\n",
      "[LightGBM] [Info] Start training from score 0.211788\n",
      "Fold 5\n",
      "[LightGBM] [Info] Auto-choosing col-wise multi-threading, the overhead of testing was 0.153507 seconds.\n",
      "You can set `force_col_wise=true` to remove the overhead.\n",
      "[LightGBM] [Info] Total Bins 11439\n",
      "[LightGBM] [Info] Number of data points in the train set: 163336, number of used features: 46\n",
      "[LightGBM] [Info] Start training from score 0.219450\n",
      "Asset ID 0.0 OOF RMSE: 3.834199\n",
      "\n",
      "Training model for Asset ID 7.0\n",
      "Fold 1\n",
      "[LightGBM] [Info] Auto-choosing col-wise multi-threading, the overhead of testing was 0.030562 seconds.\n",
      "You can set `force_col_wise=true` to remove the overhead.\n",
      "[LightGBM] [Info] Total Bins 11545\n",
      "[LightGBM] [Info] Number of data points in the train set: 32682, number of used features: 46\n",
      "[LightGBM] [Info] Start training from score 0.080545\n",
      "Fold 2\n",
      "[LightGBM] [Info] Auto-choosing col-wise multi-threading, the overhead of testing was 0.073553 seconds.\n",
      "You can set `force_col_wise=true` to remove the overhead.\n",
      "[LightGBM] [Info] Total Bins 11534\n",
      "[LightGBM] [Info] Number of data points in the train set: 65362, number of used features: 46\n",
      "[LightGBM] [Info] Start training from score 0.087911\n",
      "Fold 3\n",
      "[LightGBM] [Info] Auto-choosing col-wise multi-threading, the overhead of testing was 0.091464 seconds.\n",
      "You can set `force_col_wise=true` to remove the overhead.\n",
      "[LightGBM] [Info] Total Bins 11564\n",
      "[LightGBM] [Info] Number of data points in the train set: 98042, number of used features: 46\n",
      "[LightGBM] [Info] Start training from score 0.086702\n",
      "Fold 4\n",
      "[LightGBM] [Info] Auto-choosing col-wise multi-threading, the overhead of testing was 0.122327 seconds.\n",
      "You can set `force_col_wise=true` to remove the overhead.\n",
      "[LightGBM] [Info] Total Bins 11581\n",
      "[LightGBM] [Info] Number of data points in the train set: 130722, number of used features: 46\n",
      "[LightGBM] [Info] Start training from score 0.085983\n",
      "Fold 5\n",
      "[LightGBM] [Info] Auto-choosing col-wise multi-threading, the overhead of testing was 0.192874 seconds.\n",
      "You can set `force_col_wise=true` to remove the overhead.\n",
      "[LightGBM] [Info] Total Bins 11598\n",
      "[LightGBM] [Info] Number of data points in the train set: 163402, number of used features: 46\n",
      "[LightGBM] [Info] Start training from score 0.085787\n",
      "Asset ID 7.0 OOF RMSE: 1.056144\n",
      "\n",
      "Training model for Asset ID 3.0\n",
      "Fold 1\n",
      "[LightGBM] [Info] Auto-choosing col-wise multi-threading, the overhead of testing was 0.028072 seconds.\n",
      "You can set `force_col_wise=true` to remove the overhead.\n",
      "[LightGBM] [Info] Total Bins 11344\n",
      "[LightGBM] [Info] Number of data points in the train set: 30109, number of used features: 46\n",
      "[LightGBM] [Info] Start training from score 0.000840\n",
      "Fold 2\n",
      "[LightGBM] [Info] Auto-choosing col-wise multi-threading, the overhead of testing was 0.056253 seconds.\n",
      "You can set `force_col_wise=true` to remove the overhead.\n",
      "[LightGBM] [Info] Total Bins 11363\n",
      "[LightGBM] [Info] Number of data points in the train set: 60217, number of used features: 46\n",
      "[LightGBM] [Info] Start training from score 0.000775\n",
      "Fold 3\n",
      "[LightGBM] [Info] Auto-choosing col-wise multi-threading, the overhead of testing was 0.083842 seconds.\n",
      "You can set `force_col_wise=true` to remove the overhead.\n",
      "[LightGBM] [Info] Total Bins 11412\n",
      "[LightGBM] [Info] Number of data points in the train set: 90325, number of used features: 46\n",
      "[LightGBM] [Info] Start training from score 0.000818\n",
      "Fold 4\n",
      "[LightGBM] [Info] Auto-choosing col-wise multi-threading, the overhead of testing was 0.112398 seconds.\n",
      "You can set `force_col_wise=true` to remove the overhead.\n",
      "[LightGBM] [Info] Total Bins 11442\n",
      "[LightGBM] [Info] Number of data points in the train set: 120433, number of used features: 46\n",
      "[LightGBM] [Info] Start training from score 0.000782\n",
      "Fold 5\n",
      "[LightGBM] [Info] Auto-choosing col-wise multi-threading, the overhead of testing was 0.142124 seconds.\n",
      "You can set `force_col_wise=true` to remove the overhead.\n",
      "[LightGBM] [Info] Total Bins 11457\n",
      "[LightGBM] [Info] Number of data points in the train set: 150541, number of used features: 46\n",
      "[LightGBM] [Info] Start training from score 0.000776\n",
      "Asset ID 3.0 OOF RMSE: 0.012027\n",
      "\n",
      "Training model for Asset ID 1.0\n",
      "Fold 1\n",
      "[LightGBM] [Info] Auto-choosing col-wise multi-threading, the overhead of testing was 0.030429 seconds.\n",
      "You can set `force_col_wise=true` to remove the overhead.\n",
      "[LightGBM] [Info] Total Bins 11271\n",
      "[LightGBM] [Info] Number of data points in the train set: 32453, number of used features: 46\n",
      "[LightGBM] [Info] Start training from score 3.019431\n",
      "Fold 2\n",
      "[LightGBM] [Info] Auto-choosing col-wise multi-threading, the overhead of testing was 0.060850 seconds.\n",
      "You can set `force_col_wise=true` to remove the overhead.\n",
      "[LightGBM] [Info] Total Bins 11316\n",
      "[LightGBM] [Info] Number of data points in the train set: 64902, number of used features: 46\n",
      "[LightGBM] [Info] Start training from score 3.712051\n",
      "Fold 3\n",
      "[LightGBM] [Info] Auto-choosing col-wise multi-threading, the overhead of testing was 0.091735 seconds.\n",
      "You can set `force_col_wise=true` to remove the overhead.\n",
      "[LightGBM] [Info] Total Bins 11370\n",
      "[LightGBM] [Info] Number of data points in the train set: 97351, number of used features: 46\n",
      "[LightGBM] [Info] Start training from score 4.288575\n",
      "Fold 4\n",
      "[LightGBM] [Info] Auto-choosing col-wise multi-threading, the overhead of testing was 0.124663 seconds.\n",
      "You can set `force_col_wise=true` to remove the overhead.\n",
      "[LightGBM] [Info] Total Bins 11383\n",
      "[LightGBM] [Info] Number of data points in the train set: 129800, number of used features: 46\n",
      "[LightGBM] [Info] Start training from score 4.212179\n",
      "Fold 5\n",
      "[LightGBM] [Info] Auto-choosing col-wise multi-threading, the overhead of testing was 0.154943 seconds.\n",
      "You can set `force_col_wise=true` to remove the overhead.\n",
      "[LightGBM] [Info] Total Bins 11400\n",
      "[LightGBM] [Info] Number of data points in the train set: 162249, number of used features: 46\n",
      "[LightGBM] [Info] Start training from score 4.210935\n",
      "Asset ID 1.0 OOF RMSE: 161.570737\n",
      "\n",
      "Training model for Asset ID 8.0\n",
      "Fold 1\n",
      "[LightGBM] [Info] Auto-choosing col-wise multi-threading, the overhead of testing was 0.027666 seconds.\n",
      "You can set `force_col_wise=true` to remove the overhead.\n",
      "[LightGBM] [Info] Total Bins 11450\n",
      "[LightGBM] [Info] Number of data points in the train set: 29436, number of used features: 46\n",
      "[LightGBM] [Info] Start training from score 0.055100\n",
      "Fold 2\n",
      "[LightGBM] [Info] Auto-choosing col-wise multi-threading, the overhead of testing was 0.055100 seconds.\n",
      "You can set `force_col_wise=true` to remove the overhead.\n",
      "[LightGBM] [Info] Total Bins 11470\n",
      "[LightGBM] [Info] Number of data points in the train set: 58869, number of used features: 46\n",
      "[LightGBM] [Info] Start training from score 0.055948\n",
      "Fold 3\n",
      "[LightGBM] [Info] Auto-choosing col-wise multi-threading, the overhead of testing was 0.083136 seconds.\n",
      "You can set `force_col_wise=true` to remove the overhead.\n",
      "[LightGBM] [Info] Total Bins 11485\n",
      "[LightGBM] [Info] Number of data points in the train set: 88302, number of used features: 46\n",
      "[LightGBM] [Info] Start training from score 0.056253\n",
      "Fold 4\n",
      "[LightGBM] [Info] Auto-choosing col-wise multi-threading, the overhead of testing was 0.109948 seconds.\n",
      "You can set `force_col_wise=true` to remove the overhead.\n",
      "[LightGBM] [Info] Total Bins 11497\n",
      "[LightGBM] [Info] Number of data points in the train set: 117735, number of used features: 46\n",
      "[LightGBM] [Info] Start training from score 0.056184\n",
      "Fold 5\n",
      "[LightGBM] [Info] Auto-choosing col-wise multi-threading, the overhead of testing was 0.139376 seconds.\n",
      "You can set `force_col_wise=true` to remove the overhead.\n",
      "[LightGBM] [Info] Total Bins 11507\n",
      "[LightGBM] [Info] Number of data points in the train set: 147168, number of used features: 46\n",
      "[LightGBM] [Info] Start training from score 0.056137\n",
      "Asset ID 8.0 OOF RMSE: 0.115542\n",
      "\n",
      "Overall OOF RMSE for dataset 'with_features': 69.573486\n",
      "\n",
      "Training models on dataset: without_features\n",
      "\n",
      "Training model for Asset ID 12.0\n",
      "Fold 1\n",
      "[LightGBM] [Info] Auto-choosing col-wise multi-threading, the overhead of testing was 0.003020 seconds.\n",
      "You can set `force_col_wise=true` to remove the overhead.\n",
      "[LightGBM] [Info] Total Bins 1275\n",
      "[LightGBM] [Info] Number of data points in the train set: 31420, number of used features: 5\n",
      "[LightGBM] [Info] Start training from score 0.027081\n",
      "Fold 2\n",
      "[LightGBM] [Info] Auto-choosing col-wise multi-threading, the overhead of testing was 0.005902 seconds.\n",
      "You can set `force_col_wise=true` to remove the overhead.\n",
      "[LightGBM] [Info] Total Bins 1275\n",
      "[LightGBM] [Info] Number of data points in the train set: 62840, number of used features: 5\n",
      "[LightGBM] [Info] Start training from score 0.026875\n",
      "Fold 3\n",
      "[LightGBM] [Info] Auto-choosing col-wise multi-threading, the overhead of testing was 0.008858 seconds.\n",
      "You can set `force_col_wise=true` to remove the overhead.\n",
      "[LightGBM] [Info] Total Bins 1275\n",
      "[LightGBM] [Info] Number of data points in the train set: 94260, number of used features: 5\n",
      "[LightGBM] [Info] Start training from score 0.026695\n",
      "Fold 4\n",
      "[LightGBM] [Info] Auto-choosing col-wise multi-threading, the overhead of testing was 0.011794 seconds.\n",
      "You can set `force_col_wise=true` to remove the overhead.\n",
      "[LightGBM] [Info] Total Bins 1275\n",
      "[LightGBM] [Info] Number of data points in the train set: 125680, number of used features: 5\n",
      "[LightGBM] [Info] Start training from score 0.026707\n",
      "Fold 5\n",
      "[LightGBM] [Info] Auto-choosing col-wise multi-threading, the overhead of testing was 0.014753 seconds.\n",
      "You can set `force_col_wise=true` to remove the overhead.\n",
      "[LightGBM] [Info] Total Bins 1275\n",
      "[LightGBM] [Info] Number of data points in the train set: 157100, number of used features: 5\n",
      "[LightGBM] [Info] Start training from score 0.026544\n",
      "Asset ID 12.0 OOF RMSE: 0.078301\n",
      "\n",
      "Training model for Asset ID 4.0\n",
      "Fold 1\n",
      "[LightGBM] [Info] Auto-choosing col-wise multi-threading, the overhead of testing was 0.002029 seconds.\n",
      "You can set `force_col_wise=true` to remove the overhead.\n",
      "[LightGBM] [Info] Total Bins 1275\n",
      "[LightGBM] [Info] Number of data points in the train set: 21354, number of used features: 5\n",
      "[LightGBM] [Info] Start training from score 0.000539\n",
      "Fold 2\n",
      "[LightGBM] [Info] Auto-choosing col-wise multi-threading, the overhead of testing was 0.004081 seconds.\n",
      "You can set `force_col_wise=true` to remove the overhead.\n",
      "[LightGBM] [Info] Total Bins 1275\n",
      "[LightGBM] [Info] Number of data points in the train set: 42706, number of used features: 5\n",
      "[LightGBM] [Info] Start training from score 0.000580\n",
      "Fold 3\n",
      "[LightGBM] [Info] Auto-choosing col-wise multi-threading, the overhead of testing was 0.006039 seconds.\n",
      "You can set `force_col_wise=true` to remove the overhead.\n",
      "[LightGBM] [Info] Total Bins 1275\n",
      "[LightGBM] [Info] Number of data points in the train set: 64058, number of used features: 5\n",
      "[LightGBM] [Info] Start training from score 0.000581\n",
      "Fold 4\n",
      "[LightGBM] [Info] Auto-choosing col-wise multi-threading, the overhead of testing was 0.008178 seconds.\n",
      "You can set `force_col_wise=true` to remove the overhead.\n",
      "[LightGBM] [Info] Total Bins 1275\n",
      "[LightGBM] [Info] Number of data points in the train set: 85410, number of used features: 5\n",
      "[LightGBM] [Info] Start training from score 0.000578\n",
      "Fold 5\n",
      "[LightGBM] [Info] Auto-choosing col-wise multi-threading, the overhead of testing was 0.010518 seconds.\n",
      "You can set `force_col_wise=true` to remove the overhead.\n",
      "[LightGBM] [Info] Total Bins 1275\n",
      "[LightGBM] [Info] Number of data points in the train set: 106762, number of used features: 5\n",
      "[LightGBM] [Info] Start training from score 0.000563\n",
      "Asset ID 4.0 OOF RMSE: 0.007540\n",
      "\n",
      "Training model for Asset ID 13.0\n",
      "Fold 1\n",
      "[LightGBM] [Info] Auto-choosing col-wise multi-threading, the overhead of testing was 0.003037 seconds.\n",
      "You can set `force_col_wise=true` to remove the overhead.\n",
      "[LightGBM] [Info] Total Bins 1275\n",
      "[LightGBM] [Info] Number of data points in the train set: 31727, number of used features: 5\n",
      "[LightGBM] [Info] Start training from score 0.001327\n",
      "Fold 2\n",
      "[LightGBM] [Info] Auto-choosing col-wise multi-threading, the overhead of testing was 0.006035 seconds.\n",
      "You can set `force_col_wise=true` to remove the overhead.\n",
      "[LightGBM] [Info] Total Bins 1275\n",
      "[LightGBM] [Info] Number of data points in the train set: 63453, number of used features: 5\n",
      "[LightGBM] [Info] Start training from score 0.001320\n",
      "Fold 3\n",
      "[LightGBM] [Info] Auto-choosing col-wise multi-threading, the overhead of testing was 0.008993 seconds.\n",
      "You can set `force_col_wise=true` to remove the overhead.\n",
      "[LightGBM] [Info] Total Bins 1275\n",
      "[LightGBM] [Info] Number of data points in the train set: 95179, number of used features: 5\n",
      "[LightGBM] [Info] Start training from score 0.001335\n",
      "Fold 4\n",
      "[LightGBM] [Info] Auto-choosing col-wise multi-threading, the overhead of testing was 0.015472 seconds.\n",
      "You can set `force_col_wise=true` to remove the overhead.\n",
      "[LightGBM] [Info] Total Bins 1275\n",
      "[LightGBM] [Info] Number of data points in the train set: 126905, number of used features: 5\n",
      "[LightGBM] [Info] Start training from score 0.001312\n",
      "Fold 5\n",
      "[LightGBM] [Info] Auto-choosing col-wise multi-threading, the overhead of testing was 0.015058 seconds.\n",
      "You can set `force_col_wise=true` to remove the overhead.\n",
      "[LightGBM] [Info] Total Bins 1275\n",
      "[LightGBM] [Info] Number of data points in the train set: 158631, number of used features: 5\n",
      "[LightGBM] [Info] Start training from score 0.001314\n",
      "Asset ID 13.0 OOF RMSE: 0.009286\n",
      "\n",
      "Training model for Asset ID 9.0\n",
      "Fold 1\n",
      "[LightGBM] [Info] Auto-choosing col-wise multi-threading, the overhead of testing was 0.003078 seconds.\n",
      "You can set `force_col_wise=true` to remove the overhead.\n",
      "[LightGBM] [Info] Total Bins 1275\n",
      "[LightGBM] [Info] Number of data points in the train set: 32530, number of used features: 5\n",
      "[LightGBM] [Info] Start training from score 0.029553\n",
      "Fold 2\n",
      "[LightGBM] [Info] Auto-choosing col-wise multi-threading, the overhead of testing was 0.006512 seconds.\n",
      "You can set `force_col_wise=true` to remove the overhead.\n",
      "[LightGBM] [Info] Total Bins 1275\n",
      "[LightGBM] [Info] Number of data points in the train set: 65056, number of used features: 5\n",
      "[LightGBM] [Info] Start training from score 0.033191\n",
      "Fold 3\n",
      "[LightGBM] [Info] Auto-choosing col-wise multi-threading, the overhead of testing was 0.009259 seconds.\n",
      "You can set `force_col_wise=true` to remove the overhead.\n",
      "[LightGBM] [Info] Total Bins 1275\n",
      "[LightGBM] [Info] Number of data points in the train set: 97582, number of used features: 5\n",
      "[LightGBM] [Info] Start training from score 0.036760\n",
      "Fold 4\n",
      "[LightGBM] [Info] Auto-choosing col-wise multi-threading, the overhead of testing was 0.012476 seconds.\n",
      "You can set `force_col_wise=true` to remove the overhead.\n",
      "[LightGBM] [Info] Total Bins 1275\n",
      "[LightGBM] [Info] Number of data points in the train set: 130108, number of used features: 5\n",
      "[LightGBM] [Info] Start training from score 0.037939\n",
      "Fold 5\n",
      "[LightGBM] [Info] Auto-choosing col-wise multi-threading, the overhead of testing was 0.015281 seconds.\n",
      "You can set `force_col_wise=true` to remove the overhead.\n",
      "[LightGBM] [Info] Total Bins 1275\n",
      "[LightGBM] [Info] Number of data points in the train set: 162634, number of used features: 5\n",
      "[LightGBM] [Info] Start training from score 0.037323\n",
      "Asset ID 9.0 OOF RMSE: 1.552107\n",
      "\n",
      "Training model for Asset ID 10.0\n",
      "Fold 1\n",
      "[LightGBM] [Info] Auto-choosing col-wise multi-threading, the overhead of testing was 0.002812 seconds.\n",
      "You can set `force_col_wise=true` to remove the overhead.\n",
      "[LightGBM] [Info] Total Bins 1275\n",
      "[LightGBM] [Info] Number of data points in the train set: 29543, number of used features: 5\n",
      "[LightGBM] [Info] Start training from score 349.547711\n",
      "Fold 2\n",
      "[LightGBM] [Info] Auto-choosing col-wise multi-threading, the overhead of testing was 0.005917 seconds.\n",
      "You can set `force_col_wise=true` to remove the overhead.\n",
      "[LightGBM] [Info] Total Bins 1275\n",
      "[LightGBM] [Info] Number of data points in the train set: 59082, number of used features: 5\n",
      "[LightGBM] [Info] Start training from score 348.148407\n",
      "Fold 3\n",
      "[LightGBM] [Info] Auto-choosing col-wise multi-threading, the overhead of testing was 0.008342 seconds.\n",
      "You can set `force_col_wise=true` to remove the overhead.\n",
      "[LightGBM] [Info] Total Bins 1275\n",
      "[LightGBM] [Info] Number of data points in the train set: 88621, number of used features: 5\n",
      "[LightGBM] [Info] Start training from score 348.900612\n",
      "Fold 4\n",
      "[LightGBM] [Info] Auto-choosing col-wise multi-threading, the overhead of testing was 0.012073 seconds.\n",
      "You can set `force_col_wise=true` to remove the overhead.\n",
      "[LightGBM] [Info] Total Bins 1275\n",
      "[LightGBM] [Info] Number of data points in the train set: 118160, number of used features: 5\n",
      "[LightGBM] [Info] Start training from score 348.255038\n",
      "Fold 5\n",
      "[LightGBM] [Info] Auto-choosing col-wise multi-threading, the overhead of testing was 0.013836 seconds.\n",
      "You can set `force_col_wise=true` to remove the overhead.\n",
      "[LightGBM] [Info] Total Bins 1275\n",
      "[LightGBM] [Info] Number of data points in the train set: 147699, number of used features: 5\n",
      "[LightGBM] [Info] Start training from score 348.084566\n",
      "Asset ID 10.0 OOF RMSE: 245.077797\n",
      "\n",
      "Training model for Asset ID 5.0\n",
      "Fold 1\n",
      "[LightGBM] [Info] Auto-choosing col-wise multi-threading, the overhead of testing was 0.003084 seconds.\n",
      "You can set `force_col_wise=true` to remove the overhead.\n",
      "[LightGBM] [Info] Total Bins 1275\n",
      "[LightGBM] [Info] Number of data points in the train set: 32793, number of used features: 5\n",
      "[LightGBM] [Info] Start training from score 0.014036\n",
      "Fold 2\n",
      "[LightGBM] [Info] Auto-choosing col-wise multi-threading, the overhead of testing was 0.006180 seconds.\n",
      "You can set `force_col_wise=true` to remove the overhead.\n",
      "[LightGBM] [Info] Total Bins 1275\n",
      "[LightGBM] [Info] Number of data points in the train set: 65585, number of used features: 5\n",
      "[LightGBM] [Info] Start training from score 0.015302\n",
      "Fold 3\n",
      "[LightGBM] [Info] Auto-choosing col-wise multi-threading, the overhead of testing was 0.009272 seconds.\n",
      "You can set `force_col_wise=true` to remove the overhead.\n",
      "[LightGBM] [Info] Total Bins 1275\n",
      "[LightGBM] [Info] Number of data points in the train set: 98377, number of used features: 5\n",
      "[LightGBM] [Info] Start training from score 0.014547\n",
      "Fold 4\n",
      "[LightGBM] [Info] Auto-choosing col-wise multi-threading, the overhead of testing was 0.012542 seconds.\n",
      "You can set `force_col_wise=true` to remove the overhead.\n",
      "[LightGBM] [Info] Total Bins 1275\n",
      "[LightGBM] [Info] Number of data points in the train set: 131169, number of used features: 5\n",
      "[LightGBM] [Info] Start training from score 0.013832\n",
      "Fold 5\n",
      "[LightGBM] [Info] Auto-choosing col-wise multi-threading, the overhead of testing was 0.015439 seconds.\n",
      "You can set `force_col_wise=true` to remove the overhead.\n",
      "[LightGBM] [Info] Total Bins 1275\n",
      "[LightGBM] [Info] Number of data points in the train set: 163961, number of used features: 5\n",
      "[LightGBM] [Info] Start training from score 0.013787\n",
      "Asset ID 5.0 OOF RMSE: 0.330872\n",
      "\n",
      "Training model for Asset ID 11.0\n",
      "Fold 1\n",
      "[LightGBM] [Info] Auto-choosing col-wise multi-threading, the overhead of testing was 0.003103 seconds.\n",
      "You can set `force_col_wise=true` to remove the overhead.\n",
      "[LightGBM] [Info] Total Bins 1275\n",
      "[LightGBM] [Info] Number of data points in the train set: 32656, number of used features: 5\n",
      "[LightGBM] [Info] Start training from score 29.815672\n",
      "Fold 2\n",
      "[LightGBM] [Info] Auto-choosing col-wise multi-threading, the overhead of testing was 0.006269 seconds.\n",
      "You can set `force_col_wise=true` to remove the overhead.\n",
      "[LightGBM] [Info] Total Bins 1275\n",
      "[LightGBM] [Info] Number of data points in the train set: 65309, number of used features: 5\n",
      "[LightGBM] [Info] Start training from score 30.099871\n",
      "Fold 3\n",
      "[LightGBM] [Info] Auto-choosing col-wise multi-threading, the overhead of testing was 0.009702 seconds.\n",
      "You can set `force_col_wise=true` to remove the overhead.\n",
      "[LightGBM] [Info] Total Bins 1275\n",
      "[LightGBM] [Info] Number of data points in the train set: 97962, number of used features: 5\n",
      "[LightGBM] [Info] Start training from score 29.881420\n",
      "Fold 4\n",
      "[LightGBM] [Info] Auto-choosing col-wise multi-threading, the overhead of testing was 0.012263 seconds.\n",
      "You can set `force_col_wise=true` to remove the overhead.\n",
      "[LightGBM] [Info] Total Bins 1275\n",
      "[LightGBM] [Info] Number of data points in the train set: 130615, number of used features: 5\n",
      "[LightGBM] [Info] Start training from score 29.795109\n",
      "Fold 5\n",
      "[LightGBM] [Info] Auto-choosing col-wise multi-threading, the overhead of testing was 0.015336 seconds.\n",
      "You can set `force_col_wise=true` to remove the overhead.\n",
      "[LightGBM] [Info] Total Bins 1275\n",
      "[LightGBM] [Info] Number of data points in the train set: 163268, number of used features: 5\n",
      "[LightGBM] [Info] Start training from score 29.778694\n",
      "Asset ID 11.0 OOF RMSE: 59.616637\n",
      "\n",
      "Training model for Asset ID 2.0\n",
      "Fold 1\n",
      "[LightGBM] [Info] Auto-choosing col-wise multi-threading, the overhead of testing was 0.003155 seconds.\n",
      "You can set `force_col_wise=true` to remove the overhead.\n",
      "[LightGBM] [Info] Total Bins 1275\n",
      "[LightGBM] [Info] Number of data points in the train set: 32631, number of used features: 5\n",
      "[LightGBM] [Info] Start training from score 0.882628\n",
      "Fold 2\n",
      "[LightGBM] [Info] Auto-choosing col-wise multi-threading, the overhead of testing was 0.006327 seconds.\n",
      "You can set `force_col_wise=true` to remove the overhead.\n",
      "[LightGBM] [Info] Total Bins 1275\n",
      "[LightGBM] [Info] Number of data points in the train set: 65257, number of used features: 5\n",
      "[LightGBM] [Info] Start training from score 0.792454\n",
      "Fold 3\n",
      "[LightGBM] [Info] Auto-choosing col-wise multi-threading, the overhead of testing was 0.009459 seconds.\n",
      "You can set `force_col_wise=true` to remove the overhead.\n",
      "[LightGBM] [Info] Total Bins 1275\n",
      "[LightGBM] [Info] Number of data points in the train set: 97883, number of used features: 5\n",
      "[LightGBM] [Info] Start training from score 0.792883\n",
      "Fold 4\n",
      "[LightGBM] [Info] Auto-choosing col-wise multi-threading, the overhead of testing was 0.012360 seconds.\n",
      "You can set `force_col_wise=true` to remove the overhead.\n",
      "[LightGBM] [Info] Total Bins 1275\n",
      "[LightGBM] [Info] Number of data points in the train set: 130509, number of used features: 5\n",
      "[LightGBM] [Info] Start training from score 0.803274\n",
      "Fold 5\n",
      "[LightGBM] [Info] Auto-choosing col-wise multi-threading, the overhead of testing was 0.015473 seconds.\n",
      "You can set `force_col_wise=true` to remove the overhead.\n",
      "[LightGBM] [Info] Total Bins 1275\n",
      "[LightGBM] [Info] Number of data points in the train set: 163135, number of used features: 5\n",
      "[LightGBM] [Info] Start training from score 0.809144\n",
      "Asset ID 2.0 OOF RMSE: 15.466094\n",
      "\n",
      "Training model for Asset ID 6.0\n",
      "Fold 1\n",
      "[LightGBM] [Info] Auto-choosing col-wise multi-threading, the overhead of testing was 0.003166 seconds.\n",
      "You can set `force_col_wise=true` to remove the overhead.\n",
      "[LightGBM] [Info] Total Bins 1275\n",
      "[LightGBM] [Info] Number of data points in the train set: 32692, number of used features: 5\n",
      "[LightGBM] [Info] Start training from score 0.299714\n",
      "Fold 2\n",
      "[LightGBM] [Info] Auto-choosing col-wise multi-threading, the overhead of testing was 0.006185 seconds.\n",
      "You can set `force_col_wise=true` to remove the overhead.\n",
      "[LightGBM] [Info] Total Bins 1275\n",
      "[LightGBM] [Info] Number of data points in the train set: 65383, number of used features: 5\n",
      "[LightGBM] [Info] Start training from score 0.197970\n",
      "Fold 3\n",
      "[LightGBM] [Info] Auto-choosing col-wise multi-threading, the overhead of testing was 0.009208 seconds.\n",
      "You can set `force_col_wise=true` to remove the overhead.\n",
      "[LightGBM] [Info] Total Bins 1275\n",
      "[LightGBM] [Info] Number of data points in the train set: 98074, number of used features: 5\n",
      "[LightGBM] [Info] Start training from score 0.178297\n",
      "Fold 4\n",
      "[LightGBM] [Info] Auto-choosing col-wise multi-threading, the overhead of testing was 0.012324 seconds.\n",
      "You can set `force_col_wise=true` to remove the overhead.\n",
      "[LightGBM] [Info] Total Bins 1275\n",
      "[LightGBM] [Info] Number of data points in the train set: 130765, number of used features: 5\n",
      "[LightGBM] [Info] Start training from score 0.153631\n",
      "Fold 5\n",
      "[LightGBM] [Info] Auto-choosing col-wise multi-threading, the overhead of testing was 0.015431 seconds.\n",
      "You can set `force_col_wise=true` to remove the overhead.\n",
      "[LightGBM] [Info] Total Bins 1275\n",
      "[LightGBM] [Info] Number of data points in the train set: 163456, number of used features: 5\n",
      "[LightGBM] [Info] Start training from score 0.161020\n",
      "Asset ID 6.0 OOF RMSE: 16.357984\n",
      "\n",
      "Training model for Asset ID 0.0\n",
      "Fold 1\n",
      "[LightGBM] [Info] Auto-choosing col-wise multi-threading, the overhead of testing was 0.003164 seconds.\n",
      "You can set `force_col_wise=true` to remove the overhead.\n",
      "[LightGBM] [Info] Total Bins 1275\n",
      "[LightGBM] [Info] Number of data points in the train set: 32668, number of used features: 5\n",
      "[LightGBM] [Info] Start training from score 0.200903\n",
      "Fold 2\n",
      "[LightGBM] [Info] Auto-choosing col-wise multi-threading, the overhead of testing was 0.006151 seconds.\n",
      "You can set `force_col_wise=true` to remove the overhead.\n",
      "[LightGBM] [Info] Total Bins 1275\n",
      "[LightGBM] [Info] Number of data points in the train set: 65335, number of used features: 5\n",
      "[LightGBM] [Info] Start training from score 0.193301\n",
      "Fold 3\n",
      "[LightGBM] [Info] Auto-choosing col-wise multi-threading, the overhead of testing was 0.009217 seconds.\n",
      "You can set `force_col_wise=true` to remove the overhead.\n",
      "[LightGBM] [Info] Total Bins 1275\n",
      "[LightGBM] [Info] Number of data points in the train set: 98002, number of used features: 5\n",
      "[LightGBM] [Info] Start training from score 0.192252\n",
      "Fold 4\n",
      "[LightGBM] [Info] Auto-choosing col-wise multi-threading, the overhead of testing was 0.012256 seconds.\n",
      "You can set `force_col_wise=true` to remove the overhead.\n",
      "[LightGBM] [Info] Total Bins 1275\n",
      "[LightGBM] [Info] Number of data points in the train set: 130669, number of used features: 5\n",
      "[LightGBM] [Info] Start training from score 0.211788\n",
      "Fold 5\n",
      "[LightGBM] [Info] Auto-choosing col-wise multi-threading, the overhead of testing was 0.015325 seconds.\n",
      "You can set `force_col_wise=true` to remove the overhead.\n",
      "[LightGBM] [Info] Total Bins 1275\n",
      "[LightGBM] [Info] Number of data points in the train set: 163336, number of used features: 5\n",
      "[LightGBM] [Info] Start training from score 0.219450\n",
      "Asset ID 0.0 OOF RMSE: 4.123342\n",
      "\n",
      "Training model for Asset ID 7.0\n",
      "Fold 1\n",
      "[LightGBM] [Info] Auto-choosing col-wise multi-threading, the overhead of testing was 0.003105 seconds.\n",
      "You can set `force_col_wise=true` to remove the overhead.\n",
      "[LightGBM] [Info] Total Bins 1275\n",
      "[LightGBM] [Info] Number of data points in the train set: 32682, number of used features: 5\n",
      "[LightGBM] [Info] Start training from score 0.080545\n",
      "Fold 2\n",
      "[LightGBM] [Info] Auto-choosing col-wise multi-threading, the overhead of testing was 0.006124 seconds.\n",
      "You can set `force_col_wise=true` to remove the overhead.\n",
      "[LightGBM] [Info] Total Bins 1275\n",
      "[LightGBM] [Info] Number of data points in the train set: 65362, number of used features: 5\n",
      "[LightGBM] [Info] Start training from score 0.087911\n",
      "Fold 3\n",
      "[LightGBM] [Info] Auto-choosing col-wise multi-threading, the overhead of testing was 0.009288 seconds.\n",
      "You can set `force_col_wise=true` to remove the overhead.\n",
      "[LightGBM] [Info] Total Bins 1275\n",
      "[LightGBM] [Info] Number of data points in the train set: 98042, number of used features: 5\n",
      "[LightGBM] [Info] Start training from score 0.086702\n",
      "Fold 4\n",
      "[LightGBM] [Info] Auto-choosing col-wise multi-threading, the overhead of testing was 0.012322 seconds.\n",
      "You can set `force_col_wise=true` to remove the overhead.\n",
      "[LightGBM] [Info] Total Bins 1275\n",
      "[LightGBM] [Info] Number of data points in the train set: 130722, number of used features: 5\n",
      "[LightGBM] [Info] Start training from score 0.085983\n",
      "Fold 5\n",
      "[LightGBM] [Info] Auto-choosing col-wise multi-threading, the overhead of testing was 0.015552 seconds.\n",
      "You can set `force_col_wise=true` to remove the overhead.\n",
      "[LightGBM] [Info] Total Bins 1275\n",
      "[LightGBM] [Info] Number of data points in the train set: 163402, number of used features: 5\n",
      "[LightGBM] [Info] Start training from score 0.085787\n",
      "Asset ID 7.0 OOF RMSE: 1.183760\n",
      "\n",
      "Training model for Asset ID 3.0\n",
      "Fold 1\n",
      "[LightGBM] [Info] Auto-choosing col-wise multi-threading, the overhead of testing was 0.002872 seconds.\n",
      "You can set `force_col_wise=true` to remove the overhead.\n",
      "[LightGBM] [Info] Total Bins 1275\n",
      "[LightGBM] [Info] Number of data points in the train set: 30109, number of used features: 5\n",
      "[LightGBM] [Info] Start training from score 0.000840\n",
      "Fold 2\n",
      "[LightGBM] [Info] Auto-choosing col-wise multi-threading, the overhead of testing was 0.005643 seconds.\n",
      "You can set `force_col_wise=true` to remove the overhead.\n",
      "[LightGBM] [Info] Total Bins 1275\n",
      "[LightGBM] [Info] Number of data points in the train set: 60217, number of used features: 5\n",
      "[LightGBM] [Info] Start training from score 0.000775\n",
      "Fold 3\n",
      "[LightGBM] [Info] Auto-choosing col-wise multi-threading, the overhead of testing was 0.008501 seconds.\n",
      "You can set `force_col_wise=true` to remove the overhead.\n",
      "[LightGBM] [Info] Total Bins 1275\n",
      "[LightGBM] [Info] Number of data points in the train set: 90325, number of used features: 5\n",
      "[LightGBM] [Info] Start training from score 0.000818\n",
      "Fold 4\n",
      "[LightGBM] [Info] Auto-choosing col-wise multi-threading, the overhead of testing was 0.014956 seconds.\n",
      "You can set `force_col_wise=true` to remove the overhead.\n",
      "[LightGBM] [Info] Total Bins 1275\n",
      "[LightGBM] [Info] Number of data points in the train set: 120433, number of used features: 5\n",
      "[LightGBM] [Info] Start training from score 0.000782\n",
      "Fold 5\n",
      "[LightGBM] [Info] Auto-choosing col-wise multi-threading, the overhead of testing was 0.014190 seconds.\n",
      "You can set `force_col_wise=true` to remove the overhead.\n",
      "[LightGBM] [Info] Total Bins 1275\n",
      "[LightGBM] [Info] Number of data points in the train set: 150541, number of used features: 5\n",
      "[LightGBM] [Info] Start training from score 0.000776\n",
      "Asset ID 3.0 OOF RMSE: 0.011851\n",
      "\n",
      "Training model for Asset ID 1.0\n",
      "Fold 1\n",
      "[LightGBM] [Info] Auto-choosing col-wise multi-threading, the overhead of testing was 0.003067 seconds.\n",
      "You can set `force_col_wise=true` to remove the overhead.\n",
      "[LightGBM] [Info] Total Bins 1275\n",
      "[LightGBM] [Info] Number of data points in the train set: 32453, number of used features: 5\n",
      "[LightGBM] [Info] Start training from score 3.019431\n",
      "Fold 2\n",
      "[LightGBM] [Info] Auto-choosing col-wise multi-threading, the overhead of testing was 0.006112 seconds.\n",
      "You can set `force_col_wise=true` to remove the overhead.\n",
      "[LightGBM] [Info] Total Bins 1275\n",
      "[LightGBM] [Info] Number of data points in the train set: 64902, number of used features: 5\n",
      "[LightGBM] [Info] Start training from score 3.712051\n",
      "Fold 3\n",
      "[LightGBM] [Info] Auto-choosing col-wise multi-threading, the overhead of testing was 0.009344 seconds.\n",
      "You can set `force_col_wise=true` to remove the overhead.\n",
      "[LightGBM] [Info] Total Bins 1275\n",
      "[LightGBM] [Info] Number of data points in the train set: 97351, number of used features: 5\n",
      "[LightGBM] [Info] Start training from score 4.288575\n",
      "Fold 4\n",
      "[LightGBM] [Info] Auto-choosing col-wise multi-threading, the overhead of testing was 0.012323 seconds.\n",
      "You can set `force_col_wise=true` to remove the overhead.\n",
      "[LightGBM] [Info] Total Bins 1275\n",
      "[LightGBM] [Info] Number of data points in the train set: 129800, number of used features: 5\n",
      "[LightGBM] [Info] Start training from score 4.212179\n",
      "Fold 5\n",
      "[LightGBM] [Info] Auto-choosing col-wise multi-threading, the overhead of testing was 0.021143 seconds.\n",
      "You can set `force_col_wise=true` to remove the overhead.\n",
      "[LightGBM] [Info] Total Bins 1275\n",
      "[LightGBM] [Info] Number of data points in the train set: 162249, number of used features: 5\n",
      "[LightGBM] [Info] Start training from score 4.210935\n",
      "Asset ID 1.0 OOF RMSE: 194.240160\n",
      "\n",
      "Training model for Asset ID 8.0\n",
      "Fold 1\n",
      "[LightGBM] [Info] Auto-choosing col-wise multi-threading, the overhead of testing was 0.002791 seconds.\n",
      "You can set `force_col_wise=true` to remove the overhead.\n",
      "[LightGBM] [Info] Total Bins 1275\n",
      "[LightGBM] [Info] Number of data points in the train set: 29436, number of used features: 5\n",
      "[LightGBM] [Info] Start training from score 0.055100\n",
      "Fold 2\n",
      "[LightGBM] [Info] Auto-choosing col-wise multi-threading, the overhead of testing was 0.005598 seconds.\n",
      "You can set `force_col_wise=true` to remove the overhead.\n",
      "[LightGBM] [Info] Total Bins 1275\n",
      "[LightGBM] [Info] Number of data points in the train set: 58869, number of used features: 5\n",
      "[LightGBM] [Info] Start training from score 0.055948\n",
      "Fold 3\n",
      "[LightGBM] [Info] Auto-choosing col-wise multi-threading, the overhead of testing was 0.008335 seconds.\n",
      "You can set `force_col_wise=true` to remove the overhead.\n",
      "[LightGBM] [Info] Total Bins 1275\n",
      "[LightGBM] [Info] Number of data points in the train set: 88302, number of used features: 5\n",
      "[LightGBM] [Info] Start training from score 0.056253\n",
      "Fold 4\n",
      "[LightGBM] [Info] Auto-choosing col-wise multi-threading, the overhead of testing was 0.012145 seconds.\n",
      "You can set `force_col_wise=true` to remove the overhead.\n",
      "[LightGBM] [Info] Total Bins 1275\n",
      "[LightGBM] [Info] Number of data points in the train set: 117735, number of used features: 5\n",
      "[LightGBM] [Info] Start training from score 0.056184\n",
      "Fold 5\n",
      "[LightGBM] [Info] Auto-choosing col-wise multi-threading, the overhead of testing was 0.013801 seconds.\n",
      "You can set `force_col_wise=true` to remove the overhead.\n",
      "[LightGBM] [Info] Total Bins 1275\n",
      "[LightGBM] [Info] Number of data points in the train set: 147168, number of used features: 5\n",
      "[LightGBM] [Info] Start training from score 0.056137\n",
      "Asset ID 8.0 OOF RMSE: 0.137552\n",
      "\n",
      "Overall OOF RMSE for dataset 'without_features': 84.883070\n"
     ]
    }
   ],
   "source": [
    "# Train model with engineered features\n",
    "oof_preds_with_features, oof_targets_with_features, feature_importances_with = train_models(df_with_features, 'with_features')\n",
    "\n",
    "# Train model without engineered features\n",
    "oof_preds_without_features, oof_targets_without_features, feature_importances_without = train_models(df_without_features, 'without_features')\n"
   ]
  },
  {
   "cell_type": "markdown",
   "id": "6d7b5fbf",
   "metadata": {
    "papermill": {
     "duration": 0.04337,
     "end_time": "2024-11-16T12:50:28.151255",
     "exception": false,
     "start_time": "2024-11-16T12:50:28.107885",
     "status": "completed"
    },
    "tags": []
   },
   "source": [
    "# 5. Results & Analysis"
   ]
  },
  {
   "cell_type": "markdown",
   "id": "a42c3e5c",
   "metadata": {
    "papermill": {
     "duration": 0.043733,
     "end_time": "2024-11-16T12:50:28.240455",
     "exception": false,
     "start_time": "2024-11-16T12:50:28.196722",
     "status": "completed"
    },
    "tags": []
   },
   "source": [
    "### Aggreegate feature importance"
   ]
  },
  {
   "cell_type": "code",
   "execution_count": 13,
   "id": "e90dcee7",
   "metadata": {
    "_kg_hide-input": true,
    "execution": {
     "iopub.execute_input": "2024-11-16T12:50:28.330504Z",
     "iopub.status.busy": "2024-11-16T12:50:28.329881Z",
     "iopub.status.idle": "2024-11-16T12:50:28.348329Z",
     "shell.execute_reply": "2024-11-16T12:50:28.347234Z"
    },
    "jupyter": {
     "source_hidden": true
    },
    "papermill": {
     "duration": 0.066832,
     "end_time": "2024-11-16T12:50:28.351181",
     "exception": false,
     "start_time": "2024-11-16T12:50:28.284349",
     "status": "completed"
    },
    "tags": []
   },
   "outputs": [],
   "source": [
    "def aggregate_feature_importances(feature_importances):\n",
    "    # Group by feature and calculate mean importance\n",
    "    aggregated_importance = feature_importances.groupby('feature')['importance'].mean().reset_index()\n",
    "    # Sort features by importance\n",
    "    aggregated_importance.sort_values(by='importance', ascending=False, inplace=True)\n",
    "    return aggregated_importance\n",
    "\n",
    "# For model with features\n",
    "aggregated_importance_with = aggregate_feature_importances(feature_importances_with)\n",
    "\n",
    "# For model without features\n",
    "aggregated_importance_without = aggregate_feature_importances(feature_importances_without)\n",
    "\n"
   ]
  },
  {
   "cell_type": "markdown",
   "id": "bdfe9da0",
   "metadata": {
    "papermill": {
     "duration": 0.04379,
     "end_time": "2024-11-16T12:50:28.438593",
     "exception": false,
     "start_time": "2024-11-16T12:50:28.394803",
     "status": "completed"
    },
    "tags": []
   },
   "source": [
    "### Plot Feature Importance"
   ]
  },
  {
   "cell_type": "code",
   "execution_count": 14,
   "id": "21b73f53",
   "metadata": {
    "_kg_hide-input": true,
    "execution": {
     "iopub.execute_input": "2024-11-16T12:50:28.528604Z",
     "iopub.status.busy": "2024-11-16T12:50:28.528143Z",
     "iopub.status.idle": "2024-11-16T12:50:30.089528Z",
     "shell.execute_reply": "2024-11-16T12:50:30.088336Z"
    },
    "jupyter": {
     "source_hidden": true
    },
    "papermill": {
     "duration": 1.609392,
     "end_time": "2024-11-16T12:50:30.092285",
     "exception": false,
     "start_time": "2024-11-16T12:50:28.482893",
     "status": "completed"
    },
    "tags": []
   },
   "outputs": [
    {
     "data": {
      "image/png": "[encoded data removed]",
      "text/plain": [
       "<Figure size 1000x800 with 1 Axes>"
      ]
     },
     "metadata": {},
     "output_type": "display_data"
    },
    {
     "data": {
      "image/png": "[encoded data removed]",
      "text/plain": [
       "<Figure size 1000x800 with 1 Axes>"
      ]
     },
     "metadata": {},
     "output_type": "display_data"
    }
   ],
   "source": [
    "def plot_feature_importances(aggregated_importance, dataset_name, top_n=20):\n",
    "    plt.figure(figsize=(10, 8))\n",
    "    sns.barplot(\n",
    "        x='importance', \n",
    "        y='feature', \n",
    "        data=aggregated_importance.head(top_n),\n",
    "        palette='viridis'\n",
    "    )\n",
    "    plt.title(f'Top {top_n} Feature Importances for {dataset_name}')\n",
    "    plt.tight_layout()\n",
    "    plt.savefig(f'feature_importance_{dataset_name}.png')\n",
    "    plt.show()\n",
    "\n",
    "# Model with features\n",
    "plot_feature_importances(aggregated_importance_with, 'Model with frypto Features')\n",
    "\n",
    "# Model without features\n",
    "plot_feature_importances(aggregated_importance_without, 'Model without frypto Features')\n"
   ]
  },
  {
   "cell_type": "markdown",
   "id": "216e5eed",
   "metadata": {
    "papermill": {
     "duration": 0.047184,
     "end_time": "2024-11-16T12:50:30.185781",
     "exception": false,
     "start_time": "2024-11-16T12:50:30.138597",
     "status": "completed"
    },
    "tags": []
   },
   "source": [
    "### Calculate RMSE for models with and without Frypto features"
   ]
  },
  {
   "cell_type": "code",
   "execution_count": 15,
   "id": "870af5c4",
   "metadata": {
    "_kg_hide-input": true,
    "execution": {
     "iopub.execute_input": "2024-11-16T12:50:30.279433Z",
     "iopub.status.busy": "2024-11-16T12:50:30.278990Z",
     "iopub.status.idle": "2024-11-16T12:50:31.133110Z",
     "shell.execute_reply": "2024-11-16T12:50:31.131792Z"
    },
    "jupyter": {
     "source_hidden": true
    },
    "papermill": {
     "duration": 0.904046,
     "end_time": "2024-11-16T12:50:31.135862",
     "exception": false,
     "start_time": "2024-11-16T12:50:30.231816",
     "status": "completed"
    },
    "tags": []
   },
   "outputs": [
    {
     "name": "stdout",
     "output_type": "stream",
     "text": [
      "\n",
      "RMSE with engineered features: 69.573486\n",
      "RMSE without engineered features: 84.883070\n",
      "RMSE Improvement: 15.309585\n"
     ]
    }
   ],
   "source": [
    "rmse_with_features = np.sqrt(mean_squared_error(oof_targets_with_features, oof_preds_with_features))\n",
    "rmse_without_features = np.sqrt(mean_squared_error(oof_targets_without_features, oof_preds_without_features))\n",
    "\n",
    "print(f\"\\nRMSE with engineered features: {rmse_with_features:.6f}\")\n",
    "print(f\"RMSE without engineered features: {rmse_without_features:.6f}\")\n",
    "print(f\"RMSE Improvement: {rmse_without_features - rmse_with_features:.6f}\")"
   ]
  },
  {
   "cell_type": "markdown",
   "id": "ce2daa82",
   "metadata": {
    "jp-MarkdownHeadingCollapsed": true,
    "papermill": {
     "duration": 0.046955,
     "end_time": "2024-11-16T12:50:31.228989",
     "exception": false,
     "start_time": "2024-11-16T12:50:31.182034",
     "status": "completed"
    },
    "tags": []
   },
   "source": [
    "## 📈 Summary and Takeaways\n",
    "\n",
    "1. **Efficiency**: Frypto processed 29M rows and generated 42 features in under 9 minutes.\n",
    "2. **Scalability**: Chunked processing and memory optimization allowed us to handle a massive dataset efficiently.\n",
    "3. **Impact on Model Performance**:\n",
    "   - **With Frypto Features**: 69.573486\n",
    "   - **Without Features**: 84.883070\n",
    "   - **Improvement**: 15.309585\n",
    "\n",
    "This demonstrates the power of advanced feature engineering in improving prediction accuracy for crypto datasets.datasets.\r\n"
   ]
  }
 ],
 "metadata": {
  "kaggle": {
   "accelerator": "none",
   "dataSources": [
    {
     "databundleVersionId": 3147400,
     "sourceId": 30894,
     "sourceType": "competition"
    },
    {
     "datasetId": 5758231,
     "sourceId": 9513072,
     "sourceType": "datasetVersion"
    },
    {
     "sourceId": 197392195,
     "sourceType": "kernelVersion"
    },
    {
     "sourceId": 198863234,
     "sourceType": "kernelVersion"
    }
   ],
   "dockerImageVersionId": 30761,
   "isGpuEnabled": false,
   "isInternetEnabled": true,
   "language": "python",
   "sourceType": "notebook"
  },
  "kernelspec": {
   "display_name": "Python 3",
   "language": "python",
   "name": "python3"
  },
  "language_info": {
   "codemirror_mode": {
    "name": "ipython",
    "version": 3
   },
   "file_extension": ".py",
   "mimetype": "text/x-python",
   "name": "python",
   "nbconvert_exporter": "python",
   "pygments_lexer": "ipython3",
   "version": "3.10.14"
  },
  "papermill": {
   "default_parameters": {},
   "duration": 2408.246404,
   "end_time": "2024-11-16T12:50:33.102325",
   "environment_variables": {},
   "exception": null,
   "input_path": "__notebook__.ipynb",
   "output_path": "__notebook__.ipynb",
   "parameters": {},
   "start_time": "2024-11-16T12:10:24.855921",
   "version": "2.6.0"
  }
 },
 "nbformat": 4,
 "nbformat_minor": 5
}
