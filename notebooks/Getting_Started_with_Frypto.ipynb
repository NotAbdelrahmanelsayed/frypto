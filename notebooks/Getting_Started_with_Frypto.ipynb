{
 "cells": [
  {
   "cell_type": "markdown",
   "metadata": {},
   "source": [
    "# Quick start with frypto\n"
   ]
  },
  {
   "cell_type": "markdown",
   "metadata": {},
   "source": [
    "## 1. Load and Preview Data"
   ]
  },
  {
   "cell_type": "code",
   "execution_count": 33,
   "metadata": {},
   "outputs": [
    {
     "name": "stderr",
     "output_type": "stream",
     "text": [
      "[*********************100%***********************]  1 of 1 completed\n"
     ]
    }
   ],
   "source": [
    "# Getting data from yfinance\n",
    "import yfinance as yf\n",
    "data = yf.download('BTC-USD', period='1y', interval='1d')  # Using 1 year of data for quicker results"
   ]
  },
  {
   "cell_type": "code",
   "execution_count": 34,
   "metadata": {},
   "outputs": [
    {
     "name": "stdout",
     "output_type": "stream",
     "text": [
      "Initial Data Snapshot:\n"
     ]
    },
    {
     "data": {
      "text/html": [
       "<div>\n",
       "<style scoped>\n",
       "    .dataframe tbody tr th:only-of-type {\n",
       "        vertical-align: middle;\n",
       "    }\n",
       "\n",
       "    .dataframe tbody tr th {\n",
       "        vertical-align: top;\n",
       "    }\n",
       "\n",
       "    .dataframe thead th {\n",
       "        text-align: right;\n",
       "    }\n",
       "</style>\n",
       "<table border=\"1\" class=\"dataframe\">\n",
       "  <thead>\n",
       "    <tr style=\"text-align: right;\">\n",
       "      <th></th>\n",
       "      <th>Open</th>\n",
       "      <th>High</th>\n",
       "      <th>Low</th>\n",
       "      <th>Close</th>\n",
       "      <th>Adj Close</th>\n",
       "      <th>Volume</th>\n",
       "    </tr>\n",
       "    <tr>\n",
       "      <th>Date</th>\n",
       "      <th></th>\n",
       "      <th></th>\n",
       "      <th></th>\n",
       "      <th></th>\n",
       "      <th></th>\n",
       "      <th></th>\n",
       "    </tr>\n",
       "  </thead>\n",
       "  <tbody>\n",
       "    <tr>\n",
       "      <th>2023-10-31</th>\n",
       "      <td>34500.078125</td>\n",
       "      <td>34719.253906</td>\n",
       "      <td>34083.308594</td>\n",
       "      <td>34667.781250</td>\n",
       "      <td>34667.781250</td>\n",
       "      <td>15758270810</td>\n",
       "    </tr>\n",
       "    <tr>\n",
       "      <th>2023-11-01</th>\n",
       "      <td>34657.273438</td>\n",
       "      <td>35527.929688</td>\n",
       "      <td>34170.691406</td>\n",
       "      <td>35437.253906</td>\n",
       "      <td>35437.253906</td>\n",
       "      <td>22446272005</td>\n",
       "    </tr>\n",
       "  </tbody>\n",
       "</table>\n",
       "</div>"
      ],
      "text/plain": [
       "                    Open          High           Low         Close  \\\n",
       "Date                                                                 \n",
       "2023-10-31  34500.078125  34719.253906  34083.308594  34667.781250   \n",
       "2023-11-01  34657.273438  35527.929688  34170.691406  35437.253906   \n",
       "\n",
       "               Adj Close       Volume  \n",
       "Date                                   \n",
       "2023-10-31  34667.781250  15758270810  \n",
       "2023-11-01  35437.253906  22446272005  "
      ]
     },
     "execution_count": 34,
     "metadata": {},
     "output_type": "execute_result"
    }
   ],
   "source": [
    "print(\"Initial Data Snapshot:\")\n",
    "data.head(2)"
   ]
  },
  {
   "cell_type": "code",
   "execution_count": 35,
   "metadata": {},
   "outputs": [
    {
     "name": "stdout",
     "output_type": "stream",
     "text": [
      "current columns before frypto....\n",
      "['Open' 'High' 'Low' 'Close' 'Adj Close' 'Volume']\n"
     ]
    }
   ],
   "source": [
    "print(\"current columns before frypto....\")\n",
    "print(data.columns.values)"
   ]
  },
  {
   "cell_type": "markdown",
   "metadata": {},
   "source": [
    "## 2. Generate All Frypto Features"
   ]
  },
  {
   "cell_type": "code",
   "execution_count": 36,
   "metadata": {},
   "outputs": [],
   "source": [
    "from frypto.allfeatures import AllFeatures\n",
    "\n",
    "all_features = AllFeatures(data)\n",
    "features_df = all_features.compute()\n"
   ]
  },
  {
   "cell_type": "code",
   "execution_count": 37,
   "metadata": {},
   "outputs": [
    {
     "name": "stdout",
     "output_type": "stream",
     "text": [
      "current columns after frypto....\n",
      "\n",
      "['Price_change' 'next_log_return' 'high_low_spread' 'close_open_spread'\n",
      " 'rolling_std' 'upper_band' 'lower_band' 'ATR' 'RSI' 'MACD' 'Signal_Line'\n",
      " 'SMA' 'EMA' 'ROC' 'Skew_20' 'Kurtosis_20' 'ZScore_20' 'volume_change'\n",
      " 'OBV' 'lag_1' 'lag_2' 'lag_3' 'rolling_mean_5' 'rolling_max_5'\n",
      " 'rolling_min_5' 'rolling_mean_10' 'rolling_max_10' 'rolling_min_10'\n",
      " 'rolling_mean_20' 'rolling_max_20' 'rolling_min_20' '+DI' '-DI' 'ADX'\n",
      " 'support_line' 'resistance_line' 'tenkan_sen' 'kijun_sen' 'senkou_span_a'\n",
      " 'senkou_span_b' 'chikou_span']\n"
     ]
    }
   ],
   "source": [
    "print(\"current columns after frypto....\\n\")\n",
    "print(features_df.columns.values)"
   ]
  },
  {
   "cell_type": "code",
   "execution_count": 39,
   "metadata": {},
   "outputs": [
    {
     "data": {
      "text/html": [
       "<div>\n",
       "<style scoped>\n",
       "    .dataframe tbody tr th:only-of-type {\n",
       "        vertical-align: middle;\n",
       "    }\n",
       "\n",
       "    .dataframe tbody tr th {\n",
       "        vertical-align: top;\n",
       "    }\n",
       "\n",
       "    .dataframe thead th {\n",
       "        text-align: right;\n",
       "    }\n",
       "</style>\n",
       "<table border=\"1\" class=\"dataframe\">\n",
       "  <thead>\n",
       "    <tr style=\"text-align: right;\">\n",
       "      <th></th>\n",
       "      <th>Price_change</th>\n",
       "      <th>next_log_return</th>\n",
       "      <th>high_low_spread</th>\n",
       "      <th>close_open_spread</th>\n",
       "      <th>rolling_std</th>\n",
       "      <th>upper_band</th>\n",
       "      <th>lower_band</th>\n",
       "      <th>ATR</th>\n",
       "      <th>RSI</th>\n",
       "      <th>MACD</th>\n",
       "      <th>...</th>\n",
       "      <th>+DI</th>\n",
       "      <th>-DI</th>\n",
       "      <th>ADX</th>\n",
       "      <th>support_line</th>\n",
       "      <th>resistance_line</th>\n",
       "      <th>tenkan_sen</th>\n",
       "      <th>kijun_sen</th>\n",
       "      <th>senkou_span_a</th>\n",
       "      <th>senkou_span_b</th>\n",
       "      <th>chikou_span</th>\n",
       "    </tr>\n",
       "  </thead>\n",
       "  <tbody>\n",
       "    <tr>\n",
       "      <th>0</th>\n",
       "      <td>0.000000</td>\n",
       "      <td>NaN</td>\n",
       "      <td>635.945312</td>\n",
       "      <td>167.703125</td>\n",
       "      <td>NaN</td>\n",
       "      <td>NaN</td>\n",
       "      <td>NaN</td>\n",
       "      <td>NaN</td>\n",
       "      <td>NaN</td>\n",
       "      <td>0.000000</td>\n",
       "      <td>...</td>\n",
       "      <td>NaN</td>\n",
       "      <td>NaN</td>\n",
       "      <td>NaN</td>\n",
       "      <td>34667.78125</td>\n",
       "      <td>NaN</td>\n",
       "      <td>NaN</td>\n",
       "      <td>NaN</td>\n",
       "      <td>NaN</td>\n",
       "      <td>NaN</td>\n",
       "      <td>37712.746094</td>\n",
       "    </tr>\n",
       "    <tr>\n",
       "      <th>1</th>\n",
       "      <td>769.472656</td>\n",
       "      <td>0.021953</td>\n",
       "      <td>1357.238281</td>\n",
       "      <td>779.980469</td>\n",
       "      <td>NaN</td>\n",
       "      <td>NaN</td>\n",
       "      <td>NaN</td>\n",
       "      <td>NaN</td>\n",
       "      <td>NaN</td>\n",
       "      <td>17.261719</td>\n",
       "      <td>...</td>\n",
       "      <td>NaN</td>\n",
       "      <td>NaN</td>\n",
       "      <td>NaN</td>\n",
       "      <td>NaN</td>\n",
       "      <td>NaN</td>\n",
       "      <td>NaN</td>\n",
       "      <td>NaN</td>\n",
       "      <td>NaN</td>\n",
       "      <td>NaN</td>\n",
       "      <td>38688.750000</td>\n",
       "    </tr>\n",
       "  </tbody>\n",
       "</table>\n",
       "<p>2 rows × 41 columns</p>\n",
       "</div>"
      ],
      "text/plain": [
       "   Price_change  next_log_return  high_low_spread  close_open_spread  \\\n",
       "0      0.000000              NaN       635.945312         167.703125   \n",
       "1    769.472656         0.021953      1357.238281         779.980469   \n",
       "\n",
       "   rolling_std  upper_band  lower_band  ATR  RSI       MACD  ...  +DI  -DI  \\\n",
       "0          NaN         NaN         NaN  NaN  NaN   0.000000  ...  NaN  NaN   \n",
       "1          NaN         NaN         NaN  NaN  NaN  17.261719  ...  NaN  NaN   \n",
       "\n",
       "   ADX  support_line  resistance_line  tenkan_sen  kijun_sen  senkou_span_a  \\\n",
       "0  NaN   34667.78125              NaN         NaN        NaN            NaN   \n",
       "1  NaN           NaN              NaN         NaN        NaN            NaN   \n",
       "\n",
       "   senkou_span_b   chikou_span  \n",
       "0            NaN  37712.746094  \n",
       "1            NaN  38688.750000  \n",
       "\n",
       "[2 rows x 41 columns]"
      ]
     },
     "execution_count": 39,
     "metadata": {},
     "output_type": "execute_result"
    }
   ],
   "source": [
    "features_df.head(2)\n"
   ]
  }
 ],
 "metadata": {
  "kernelspec": {
   "display_name": "Python 3",
   "language": "python",
   "name": "python3"
  },
  "language_info": {
   "codemirror_mode": {
    "name": "ipython",
    "version": 3
   },
   "file_extension": ".py",
   "mimetype": "text/x-python",
   "name": "python",
   "nbconvert_exporter": "python",
   "pygments_lexer": "ipython3",
   "version": "3.10.12"
  }
 },
 "nbformat": 4,
 "nbformat_minor": 2
}
