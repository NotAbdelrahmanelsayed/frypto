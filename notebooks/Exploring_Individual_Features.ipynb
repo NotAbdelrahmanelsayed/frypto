{
 "cells": [
  {
   "cell_type": "markdown",
   "metadata": {},
   "source": [
    "# Exploring Individual Feature types"
   ]
  },
  {
   "cell_type": "markdown",
   "metadata": {},
   "source": [
    "## 0. Load the data"
   ]
  },
  {
   "cell_type": "code",
   "execution_count": 9,
   "metadata": {},
   "outputs": [
    {
     "name": "stderr",
     "output_type": "stream",
     "text": [
      "[*********************100%***********************]  1 of 1 completed\n"
     ]
    },
    {
     "data": {
      "text/html": [
       "<div>\n",
       "<style scoped>\n",
       "    .dataframe tbody tr th:only-of-type {\n",
       "        vertical-align: middle;\n",
       "    }\n",
       "\n",
       "    .dataframe tbody tr th {\n",
       "        vertical-align: top;\n",
       "    }\n",
       "\n",
       "    .dataframe thead th {\n",
       "        text-align: right;\n",
       "    }\n",
       "</style>\n",
       "<table border=\"1\" class=\"dataframe\">\n",
       "  <thead>\n",
       "    <tr style=\"text-align: right;\">\n",
       "      <th></th>\n",
       "      <th>Open</th>\n",
       "      <th>High</th>\n",
       "      <th>Low</th>\n",
       "      <th>Close</th>\n",
       "      <th>Adj Close</th>\n",
       "      <th>Volume</th>\n",
       "    </tr>\n",
       "    <tr>\n",
       "      <th>Date</th>\n",
       "      <th></th>\n",
       "      <th></th>\n",
       "      <th></th>\n",
       "      <th></th>\n",
       "      <th></th>\n",
       "      <th></th>\n",
       "    </tr>\n",
       "  </thead>\n",
       "  <tbody>\n",
       "    <tr>\n",
       "      <th>2014-10-31</th>\n",
       "      <td>345.009003</td>\n",
       "      <td>348.045013</td>\n",
       "      <td>337.141998</td>\n",
       "      <td>338.321014</td>\n",
       "      <td>338.321014</td>\n",
       "      <td>12545400</td>\n",
       "    </tr>\n",
       "    <tr>\n",
       "      <th>2014-11-01</th>\n",
       "      <td>338.649994</td>\n",
       "      <td>340.528992</td>\n",
       "      <td>321.054993</td>\n",
       "      <td>325.748993</td>\n",
       "      <td>325.748993</td>\n",
       "      <td>16677200</td>\n",
       "    </tr>\n",
       "  </tbody>\n",
       "</table>\n",
       "</div>"
      ],
      "text/plain": [
       "                  Open        High         Low       Close   Adj Close  \\\n",
       "Date                                                                     \n",
       "2014-10-31  345.009003  348.045013  337.141998  338.321014  338.321014   \n",
       "2014-11-01  338.649994  340.528992  321.054993  325.748993  325.748993   \n",
       "\n",
       "              Volume  \n",
       "Date                  \n",
       "2014-10-31  12545400  \n",
       "2014-11-01  16677200  "
      ]
     },
     "execution_count": 9,
     "metadata": {},
     "output_type": "execute_result"
    }
   ],
   "source": [
    "# Getting data from yfinance\n",
    "import yfinance as yf\n",
    "data = yf.download('BTC-USD', period='10y', interval='1d')  # Using 10 years of data\n",
    "data.head(2)"
   ]
  },
  {
   "cell_type": "markdown",
   "metadata": {},
   "source": [
    "Converting the data to np individual arrays as frypto classes exepect."
   ]
  },
  {
   "cell_type": "code",
   "execution_count": 10,
   "metadata": {},
   "outputs": [],
   "source": [
    "close = data['Close'].values\n",
    "high = data['High'].values\n",
    "low = data['Low'].values\n",
    "volume = data['Volume'].values\n",
    "open_ = data['Open'].values"
   ]
  },
  {
   "cell_type": "markdown",
   "metadata": {},
   "source": [
    "## 1. Price Features"
   ]
  },
  {
   "cell_type": "code",
   "execution_count": 13,
   "metadata": {},
   "outputs": [],
   "source": [
    "from frypto.price import PriceFeatures"
   ]
  },
  {
   "cell_type": "code",
   "execution_count": 47,
   "metadata": {},
   "outputs": [
    {
     "data": {
      "text/html": [
       "<div>\n",
       "<style scoped>\n",
       "    .dataframe tbody tr th:only-of-type {\n",
       "        vertical-align: middle;\n",
       "    }\n",
       "\n",
       "    .dataframe tbody tr th {\n",
       "        vertical-align: top;\n",
       "    }\n",
       "\n",
       "    .dataframe thead th {\n",
       "        text-align: right;\n",
       "    }\n",
       "</style>\n",
       "<table border=\"1\" class=\"dataframe\">\n",
       "  <thead>\n",
       "    <tr style=\"text-align: right;\">\n",
       "      <th></th>\n",
       "      <th>Price_change</th>\n",
       "      <th>next_log_return</th>\n",
       "      <th>high_low_spread</th>\n",
       "      <th>close_open_spread</th>\n",
       "    </tr>\n",
       "  </thead>\n",
       "  <tbody>\n",
       "    <tr>\n",
       "      <th>1572</th>\n",
       "      <td>31.380127</td>\n",
       "      <td>0.007982</td>\n",
       "      <td>102.726318</td>\n",
       "      <td>35.432861</td>\n",
       "    </tr>\n",
       "    <tr>\n",
       "      <th>467</th>\n",
       "      <td>5.619995</td>\n",
       "      <td>0.014835</td>\n",
       "      <td>9.700012</td>\n",
       "      <td>5.502991</td>\n",
       "    </tr>\n",
       "    <tr>\n",
       "      <th>2544</th>\n",
       "      <td>472.460938</td>\n",
       "      <td>0.007646</td>\n",
       "      <td>2601.902344</td>\n",
       "      <td>477.273438</td>\n",
       "    </tr>\n",
       "    <tr>\n",
       "      <th>3560</th>\n",
       "      <td>-618.898438</td>\n",
       "      <td>-0.009305</td>\n",
       "      <td>1664.480469</td>\n",
       "      <td>-618.039062</td>\n",
       "    </tr>\n",
       "  </tbody>\n",
       "</table>\n",
       "</div>"
      ],
      "text/plain": [
       "      Price_change  next_log_return  high_low_spread  close_open_spread\n",
       "1572     31.380127         0.007982       102.726318          35.432861\n",
       "467       5.619995         0.014835         9.700012           5.502991\n",
       "2544    472.460938         0.007646      2601.902344         477.273438\n",
       "3560   -618.898438        -0.009305      1664.480469        -618.039062"
      ]
     },
     "execution_count": 47,
     "metadata": {},
     "output_type": "execute_result"
    }
   ],
   "source": [
    "pf = PriceFeatures(close, high, low, open_)\n",
    "price_features = pf.compute()\n",
    "price_features.sample(4)"
   ]
  },
  {
   "cell_type": "markdown",
   "metadata": {},
   "source": [
    "### Read the class's documentation"
   ]
  },
  {
   "cell_type": "markdown",
   "metadata": {},
   "source": [
    "You can always use help(class name to understand the class better.)"
   ]
  },
  {
   "cell_type": "code",
   "execution_count": 18,
   "metadata": {},
   "outputs": [],
   "source": [
    "# # Uncomment this to see the documentation\n",
    "# help(PriceFeatures)"
   ]
  },
  {
   "cell_type": "markdown",
   "metadata": {},
   "source": [
    "## 2. Volume Features"
   ]
  },
  {
   "cell_type": "code",
   "execution_count": 48,
   "metadata": {},
   "outputs": [
    {
     "data": {
      "text/html": [
       "<div>\n",
       "<style scoped>\n",
       "    .dataframe tbody tr th:only-of-type {\n",
       "        vertical-align: middle;\n",
       "    }\n",
       "\n",
       "    .dataframe tbody tr th {\n",
       "        vertical-align: top;\n",
       "    }\n",
       "\n",
       "    .dataframe thead th {\n",
       "        text-align: right;\n",
       "    }\n",
       "</style>\n",
       "<table border=\"1\" class=\"dataframe\">\n",
       "  <thead>\n",
       "    <tr style=\"text-align: right;\">\n",
       "      <th></th>\n",
       "      <th>volume_change</th>\n",
       "      <th>OBV</th>\n",
       "    </tr>\n",
       "  </thead>\n",
       "  <tbody>\n",
       "    <tr>\n",
       "      <th>691</th>\n",
       "      <td>10065304</td>\n",
       "      <td>2.774907e+09</td>\n",
       "    </tr>\n",
       "    <tr>\n",
       "      <th>181</th>\n",
       "      <td>14882100</td>\n",
       "      <td>-6.543535e+07</td>\n",
       "    </tr>\n",
       "    <tr>\n",
       "      <th>103</th>\n",
       "      <td>-3913200</td>\n",
       "      <td>-2.517509e+08</td>\n",
       "    </tr>\n",
       "    <tr>\n",
       "      <th>1325</th>\n",
       "      <td>-90150144</td>\n",
       "      <td>1.494107e+11</td>\n",
       "    </tr>\n",
       "  </tbody>\n",
       "</table>\n",
       "</div>"
      ],
      "text/plain": [
       "      volume_change           OBV\n",
       "691        10065304  2.774907e+09\n",
       "181        14882100 -6.543535e+07\n",
       "103        -3913200 -2.517509e+08\n",
       "1325      -90150144  1.494107e+11"
      ]
     },
     "execution_count": 48,
     "metadata": {},
     "output_type": "execute_result"
    }
   ],
   "source": [
    "from frypto.volume import VolumeFeatures\n",
    "vf = VolumeFeatures(close, volume)\n",
    "volume_features = vf.compute()\n",
    "volume_features.sample(4)"
   ]
  },
  {
   "cell_type": "markdown",
   "metadata": {},
   "source": [
    "## 3. Volatility Features"
   ]
  },
  {
   "cell_type": "code",
   "execution_count": 44,
   "metadata": {},
   "outputs": [
    {
     "data": {
      "text/html": [
       "<div>\n",
       "<style scoped>\n",
       "    .dataframe tbody tr th:only-of-type {\n",
       "        vertical-align: middle;\n",
       "    }\n",
       "\n",
       "    .dataframe tbody tr th {\n",
       "        vertical-align: top;\n",
       "    }\n",
       "\n",
       "    .dataframe thead th {\n",
       "        text-align: right;\n",
       "    }\n",
       "</style>\n",
       "<table border=\"1\" class=\"dataframe\">\n",
       "  <thead>\n",
       "    <tr style=\"text-align: right;\">\n",
       "      <th></th>\n",
       "      <th>rolling_std</th>\n",
       "      <th>upper_band</th>\n",
       "      <th>lower_band</th>\n",
       "      <th>ATR</th>\n",
       "    </tr>\n",
       "  </thead>\n",
       "  <tbody>\n",
       "    <tr>\n",
       "      <th>947</th>\n",
       "      <td>159.514864</td>\n",
       "      <td>2622.846733</td>\n",
       "      <td>1984.787276</td>\n",
       "      <td>224.631982</td>\n",
       "    </tr>\n",
       "    <tr>\n",
       "      <th>2916</th>\n",
       "      <td>287.890743</td>\n",
       "      <td>19949.345353</td>\n",
       "      <td>18797.782381</td>\n",
       "      <td>444.558984</td>\n",
       "    </tr>\n",
       "    <tr>\n",
       "      <th>3014</th>\n",
       "      <td>295.349115</td>\n",
       "      <td>23621.274206</td>\n",
       "      <td>22439.877747</td>\n",
       "      <td>691.322461</td>\n",
       "    </tr>\n",
       "    <tr>\n",
       "      <th>3030</th>\n",
       "      <td>891.202847</td>\n",
       "      <td>24311.726983</td>\n",
       "      <td>20746.915596</td>\n",
       "      <td>832.269922</td>\n",
       "    </tr>\n",
       "  </tbody>\n",
       "</table>\n",
       "</div>"
      ],
      "text/plain": [
       "      rolling_std    upper_band    lower_band         ATR\n",
       "947    159.514864   2622.846733   1984.787276  224.631982\n",
       "2916   287.890743  19949.345353  18797.782381  444.558984\n",
       "3014   295.349115  23621.274206  22439.877747  691.322461\n",
       "3030   891.202847  24311.726983  20746.915596  832.269922"
      ]
     },
     "execution_count": 44,
     "metadata": {},
     "output_type": "execute_result"
    }
   ],
   "source": [
    "from frypto.volatility import VolatilityFeatures\n",
    "\n",
    "vf = VolatilityFeatures(close=close, high=high, low=low)\n",
    "volatility_features = vf.compute(window=10) # You can explore with different rolling windows size\n",
    "volatility_features.sample(4)"
   ]
  },
  {
   "cell_type": "markdown",
   "metadata": {},
   "source": [
    "## 4. Momentum Features"
   ]
  },
  {
   "cell_type": "code",
   "execution_count": 50,
   "metadata": {},
   "outputs": [
    {
     "data": {
      "text/html": [
       "<div>\n",
       "<style scoped>\n",
       "    .dataframe tbody tr th:only-of-type {\n",
       "        vertical-align: middle;\n",
       "    }\n",
       "\n",
       "    .dataframe tbody tr th {\n",
       "        vertical-align: top;\n",
       "    }\n",
       "\n",
       "    .dataframe thead th {\n",
       "        text-align: right;\n",
       "    }\n",
       "</style>\n",
       "<table border=\"1\" class=\"dataframe\">\n",
       "  <thead>\n",
       "    <tr style=\"text-align: right;\">\n",
       "      <th></th>\n",
       "      <th>RSI</th>\n",
       "      <th>MACD</th>\n",
       "      <th>Signal_Line</th>\n",
       "      <th>SMA</th>\n",
       "      <th>EMA</th>\n",
       "      <th>ROC</th>\n",
       "    </tr>\n",
       "  </thead>\n",
       "  <tbody>\n",
       "    <tr>\n",
       "      <th>3352</th>\n",
       "      <td>51.367064</td>\n",
       "      <td>671.351562</td>\n",
       "      <td>735.639343</td>\n",
       "      <td>43300.125000</td>\n",
       "      <td>43203.269531</td>\n",
       "      <td>1.208808</td>\n",
       "    </tr>\n",
       "    <tr>\n",
       "      <th>2513</th>\n",
       "      <td>42.129859</td>\n",
       "      <td>132.730469</td>\n",
       "      <td>357.171722</td>\n",
       "      <td>47672.160156</td>\n",
       "      <td>47282.300781</td>\n",
       "      <td>-4.176562</td>\n",
       "    </tr>\n",
       "    <tr>\n",
       "      <th>3230</th>\n",
       "      <td>46.810829</td>\n",
       "      <td>-655.916016</td>\n",
       "      <td>-693.857239</td>\n",
       "      <td>26227.292969</td>\n",
       "      <td>26420.781250</td>\n",
       "      <td>-1.440145</td>\n",
       "    </tr>\n",
       "    <tr>\n",
       "      <th>2449</th>\n",
       "      <td>40.787284</td>\n",
       "      <td>-900.039062</td>\n",
       "      <td>-873.962402</td>\n",
       "      <td>33610.605469</td>\n",
       "      <td>33472.683594</td>\n",
       "      <td>-9.303732</td>\n",
       "    </tr>\n",
       "  </tbody>\n",
       "</table>\n",
       "</div>"
      ],
      "text/plain": [
       "            RSI        MACD  Signal_Line           SMA           EMA       ROC\n",
       "3352  51.367064  671.351562   735.639343  43300.125000  43203.269531  1.208808\n",
       "2513  42.129859  132.730469   357.171722  47672.160156  47282.300781 -4.176562\n",
       "3230  46.810829 -655.916016  -693.857239  26227.292969  26420.781250 -1.440145\n",
       "2449  40.787284 -900.039062  -873.962402  33610.605469  33472.683594 -9.303732"
      ]
     },
     "execution_count": 50,
     "metadata": {},
     "output_type": "execute_result"
    }
   ],
   "source": [
    "from frypto.momentum import MomentumFeatures\n",
    "mf = MomentumFeatures(close)\n",
    "momentum_features = mf.compute(window=15, rsi_window=14, macd_windows=(12, 26, 9))\n",
    "momentum_features.sample(4)"
   ]
  },
  {
   "cell_type": "markdown",
   "metadata": {},
   "source": [
    "## 5. Trend Features"
   ]
  },
  {
   "cell_type": "code",
   "execution_count": 52,
   "metadata": {},
   "outputs": [
    {
     "data": {
      "text/html": [
       "<div>\n",
       "<style scoped>\n",
       "    .dataframe tbody tr th:only-of-type {\n",
       "        vertical-align: middle;\n",
       "    }\n",
       "\n",
       "    .dataframe tbody tr th {\n",
       "        vertical-align: top;\n",
       "    }\n",
       "\n",
       "    .dataframe thead th {\n",
       "        text-align: right;\n",
       "    }\n",
       "</style>\n",
       "<table border=\"1\" class=\"dataframe\">\n",
       "  <thead>\n",
       "    <tr style=\"text-align: right;\">\n",
       "      <th></th>\n",
       "      <th>+DI</th>\n",
       "      <th>-DI</th>\n",
       "      <th>ADX</th>\n",
       "      <th>support_line</th>\n",
       "      <th>resistance_line</th>\n",
       "      <th>tenkan_sen</th>\n",
       "      <th>kijun_sen</th>\n",
       "      <th>senkou_span_a</th>\n",
       "      <th>senkou_span_b</th>\n",
       "      <th>chikou_span</th>\n",
       "    </tr>\n",
       "  </thead>\n",
       "  <tbody>\n",
       "    <tr>\n",
       "      <th>1309</th>\n",
       "      <td>6.821088</td>\n",
       "      <td>15.514337</td>\n",
       "      <td>20.776068</td>\n",
       "      <td>NaN</td>\n",
       "      <td>NaN</td>\n",
       "      <td>7985.900146</td>\n",
       "      <td>8269.750000</td>\n",
       "      <td>8933.805054</td>\n",
       "      <td>11880.330078</td>\n",
       "      <td>6385.819824</td>\n",
       "    </tr>\n",
       "    <tr>\n",
       "      <th>2673</th>\n",
       "      <td>16.572452</td>\n",
       "      <td>17.488223</td>\n",
       "      <td>8.559590</td>\n",
       "      <td>NaN</td>\n",
       "      <td>NaN</td>\n",
       "      <td>40060.195312</td>\n",
       "      <td>42570.193359</td>\n",
       "      <td>42439.985352</td>\n",
       "      <td>50986.841797</td>\n",
       "      <td>44500.828125</td>\n",
       "    </tr>\n",
       "    <tr>\n",
       "      <th>2437</th>\n",
       "      <td>9.201758</td>\n",
       "      <td>20.275794</td>\n",
       "      <td>28.751633</td>\n",
       "      <td>NaN</td>\n",
       "      <td>NaN</td>\n",
       "      <td>35094.445312</td>\n",
       "      <td>44206.488281</td>\n",
       "      <td>44216.438477</td>\n",
       "      <td>47772.296875</td>\n",
       "      <td>39201.945312</td>\n",
       "    </tr>\n",
       "    <tr>\n",
       "      <th>2515</th>\n",
       "      <td>9.423373</td>\n",
       "      <td>24.376104</td>\n",
       "      <td>38.718573</td>\n",
       "      <td>NaN</td>\n",
       "      <td>NaN</td>\n",
       "      <td>48069.486328</td>\n",
       "      <td>42299.532227</td>\n",
       "      <td>41258.982422</td>\n",
       "      <td>44206.488281</td>\n",
       "      <td>64261.992188</td>\n",
       "    </tr>\n",
       "  </tbody>\n",
       "</table>\n",
       "</div>"
      ],
      "text/plain": [
       "            +DI        -DI        ADX  support_line  resistance_line  \\\n",
       "1309   6.821088  15.514337  20.776068           NaN              NaN   \n",
       "2673  16.572452  17.488223   8.559590           NaN              NaN   \n",
       "2437   9.201758  20.275794  28.751633           NaN              NaN   \n",
       "2515   9.423373  24.376104  38.718573           NaN              NaN   \n",
       "\n",
       "        tenkan_sen     kijun_sen  senkou_span_a  senkou_span_b   chikou_span  \n",
       "1309   7985.900146   8269.750000    8933.805054   11880.330078   6385.819824  \n",
       "2673  40060.195312  42570.193359   42439.985352   50986.841797  44500.828125  \n",
       "2437  35094.445312  44206.488281   44216.438477   47772.296875  39201.945312  \n",
       "2515  48069.486328  42299.532227   41258.982422   44206.488281  64261.992188  "
      ]
     },
     "execution_count": 52,
     "metadata": {},
     "output_type": "execute_result"
    }
   ],
   "source": [
    "from frypto.trend_features import TrendFeatures\n",
    "\n",
    "tf = TrendFeatures(close, high, low)\n",
    "trend_features = tf.compute(window=20) # adjust windows as required\n",
    "trend_features.sample(4)\n"
   ]
  },
  {
   "cell_type": "markdown",
   "metadata": {},
   "source": [
    "## 6. Lag & Rolling Features\n"
   ]
  },
  {
   "cell_type": "code",
   "execution_count": 56,
   "metadata": {},
   "outputs": [
    {
     "data": {
      "text/html": [
       "<div>\n",
       "<style scoped>\n",
       "    .dataframe tbody tr th:only-of-type {\n",
       "        vertical-align: middle;\n",
       "    }\n",
       "\n",
       "    .dataframe tbody tr th {\n",
       "        vertical-align: top;\n",
       "    }\n",
       "\n",
       "    .dataframe thead th {\n",
       "        text-align: right;\n",
       "    }\n",
       "</style>\n",
       "<table border=\"1\" class=\"dataframe\">\n",
       "  <thead>\n",
       "    <tr style=\"text-align: right;\">\n",
       "      <th></th>\n",
       "      <th>lag_1</th>\n",
       "      <th>lag_5</th>\n",
       "      <th>lag_10</th>\n",
       "      <th>lag_15</th>\n",
       "      <th>rolling_mean_10</th>\n",
       "      <th>rolling_max_10</th>\n",
       "      <th>rolling_min_10</th>\n",
       "      <th>rolling_mean_20</th>\n",
       "      <th>rolling_max_20</th>\n",
       "      <th>rolling_min_20</th>\n",
       "      <th>rolling_mean_50</th>\n",
       "      <th>rolling_max_50</th>\n",
       "      <th>rolling_min_50</th>\n",
       "    </tr>\n",
       "  </thead>\n",
       "  <tbody>\n",
       "    <tr>\n",
       "      <th>2014</th>\n",
       "      <td>9003.070312</td>\n",
       "      <td>8864.766602</td>\n",
       "      <td>7679.867188</td>\n",
       "      <td>6880.323242</td>\n",
       "      <td>8699.755859</td>\n",
       "      <td>9268.761719</td>\n",
       "      <td>7795.601074</td>\n",
       "      <td>7982.538086</td>\n",
       "      <td>9268.761719</td>\n",
       "      <td>6880.323242</td>\n",
       "      <td>7167.290039</td>\n",
       "      <td>9268.761719</td>\n",
       "      <td>5238.438477</td>\n",
       "    </tr>\n",
       "    <tr>\n",
       "      <th>1756</th>\n",
       "      <td>10138.049805</td>\n",
       "      <td>10231.744141</td>\n",
       "      <td>11382.616211</td>\n",
       "      <td>11941.968750</td>\n",
       "      <td>10415.936523</td>\n",
       "      <td>10916.053711</td>\n",
       "      <td>10051.704102</td>\n",
       "      <td>10963.332031</td>\n",
       "      <td>11966.407227</td>\n",
       "      <td>10051.704102</td>\n",
       "      <td>10751.755859</td>\n",
       "      <td>12573.812500</td>\n",
       "      <td>9477.641602</td>\n",
       "    </tr>\n",
       "    <tr>\n",
       "      <th>472</th>\n",
       "      <td>407.230011</td>\n",
       "      <td>381.648987</td>\n",
       "      <td>386.549011</td>\n",
       "      <td>368.766998</td>\n",
       "      <td>384.745911</td>\n",
       "      <td>407.230011</td>\n",
       "      <td>373.446991</td>\n",
       "      <td>382.140594</td>\n",
       "      <td>407.230011</td>\n",
       "      <td>368.766998</td>\n",
       "      <td>403.793671</td>\n",
       "      <td>458.048004</td>\n",
       "      <td>364.330994</td>\n",
       "    </tr>\n",
       "    <tr>\n",
       "      <th>1525</th>\n",
       "      <td>3943.409424</td>\n",
       "      <td>3820.408691</td>\n",
       "      <td>4078.599121</td>\n",
       "      <td>3745.950684</td>\n",
       "      <td>3830.427246</td>\n",
       "      <td>3943.409424</td>\n",
       "      <td>3654.833496</td>\n",
       "      <td>3795.224609</td>\n",
       "      <td>4134.441406</td>\n",
       "      <td>3236.761719</td>\n",
       "      <td>3998.999023</td>\n",
       "      <td>5648.029785</td>\n",
       "      <td>3236.761719</td>\n",
       "    </tr>\n",
       "  </tbody>\n",
       "</table>\n",
       "</div>"
      ],
      "text/plain": [
       "             lag_1         lag_5        lag_10        lag_15  rolling_mean_10  \\\n",
       "2014   9003.070312   8864.766602   7679.867188   6880.323242      8699.755859   \n",
       "1756  10138.049805  10231.744141  11382.616211  11941.968750     10415.936523   \n",
       "472     407.230011    381.648987    386.549011    368.766998       384.745911   \n",
       "1525   3943.409424   3820.408691   4078.599121   3745.950684      3830.427246   \n",
       "\n",
       "      rolling_max_10  rolling_min_10  rolling_mean_20  rolling_max_20  \\\n",
       "2014     9268.761719     7795.601074      7982.538086     9268.761719   \n",
       "1756    10916.053711    10051.704102     10963.332031    11966.407227   \n",
       "472       407.230011      373.446991       382.140594      407.230011   \n",
       "1525     3943.409424     3654.833496      3795.224609     4134.441406   \n",
       "\n",
       "      rolling_min_20  rolling_mean_50  rolling_max_50  rolling_min_50  \n",
       "2014     6880.323242      7167.290039     9268.761719     5238.438477  \n",
       "1756    10051.704102     10751.755859    12573.812500     9477.641602  \n",
       "472       368.766998       403.793671      458.048004      364.330994  \n",
       "1525     3236.761719      3998.999023     5648.029785     3236.761719  "
      ]
     },
     "execution_count": 56,
     "metadata": {},
     "output_type": "execute_result"
    }
   ],
   "source": [
    "from frypto.lag_rolling import LagRollingFeatures\n",
    "\n",
    "lrf = LagRollingFeatures(close)\n",
    "# Compute lag and rolling features with specified window sizes\n",
    "lag_rolling_features = lrf.compute(lags=[1, 5, 10, 15], windows=[10, 20, 50])\n",
    "lag_rolling_features.sample(4)\n"
   ]
  },
  {
   "cell_type": "markdown",
   "metadata": {},
   "source": [
    "## 7. Statistical Features\n"
   ]
  },
  {
   "cell_type": "code",
   "execution_count": 58,
   "metadata": {},
   "outputs": [
    {
     "data": {
      "text/html": [
       "<div>\n",
       "<style scoped>\n",
       "    .dataframe tbody tr th:only-of-type {\n",
       "        vertical-align: middle;\n",
       "    }\n",
       "\n",
       "    .dataframe tbody tr th {\n",
       "        vertical-align: top;\n",
       "    }\n",
       "\n",
       "    .dataframe thead th {\n",
       "        text-align: right;\n",
       "    }\n",
       "</style>\n",
       "<table border=\"1\" class=\"dataframe\">\n",
       "  <thead>\n",
       "    <tr style=\"text-align: right;\">\n",
       "      <th></th>\n",
       "      <th>Skew_20</th>\n",
       "      <th>Kurtosis_20</th>\n",
       "      <th>ZScore_20</th>\n",
       "    </tr>\n",
       "  </thead>\n",
       "  <tbody>\n",
       "    <tr>\n",
       "      <th>2279</th>\n",
       "      <td>0.056722</td>\n",
       "      <td>-0.990285</td>\n",
       "      <td>-1.107986</td>\n",
       "    </tr>\n",
       "    <tr>\n",
       "      <th>1915</th>\n",
       "      <td>-0.081278</td>\n",
       "      <td>-0.185060</td>\n",
       "      <td>2.190206</td>\n",
       "    </tr>\n",
       "    <tr>\n",
       "      <th>1984</th>\n",
       "      <td>-0.860384</td>\n",
       "      <td>1.723231</td>\n",
       "      <td>1.921082</td>\n",
       "    </tr>\n",
       "    <tr>\n",
       "      <th>2494</th>\n",
       "      <td>-0.344526</td>\n",
       "      <td>-1.280751</td>\n",
       "      <td>0.873548</td>\n",
       "    </tr>\n",
       "  </tbody>\n",
       "</table>\n",
       "</div>"
      ],
      "text/plain": [
       "       Skew_20  Kurtosis_20  ZScore_20\n",
       "2279  0.056722    -0.990285  -1.107986\n",
       "1915 -0.081278    -0.185060   2.190206\n",
       "1984 -0.860384     1.723231   1.921082\n",
       "2494 -0.344526    -1.280751   0.873548"
      ]
     },
     "execution_count": 58,
     "metadata": {},
     "output_type": "execute_result"
    }
   ],
   "source": [
    "from frypto.statistical_features import StatisticalFeatures\n",
    "\n",
    "sf = StatisticalFeatures(close)\n",
    "statistical_features = sf.compute(window=20) # adjust any specific windows as required\n",
    "statistical_features.sample(4)"
   ]
  }
 ],
 "metadata": {
  "kernelspec": {
   "display_name": "Python 3",
   "language": "python",
   "name": "python3"
  },
  "language_info": {
   "codemirror_mode": {
    "name": "ipython",
    "version": 3
   },
   "file_extension": ".py",
   "mimetype": "text/x-python",
   "name": "python",
   "nbconvert_exporter": "python",
   "pygments_lexer": "ipython3",
   "version": "3.10.12"
  }
 },
 "nbformat": 4,
 "nbformat_minor": 2
}
