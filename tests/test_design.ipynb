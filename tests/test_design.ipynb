{
 "cells": [
  {
   "cell_type": "code",
   "execution_count": 1,
   "metadata": {},
   "outputs": [],
   "source": [
    "import pandas as pd \n",
    "import numpy as np"
   ]
  },
  {
   "cell_type": "markdown",
   "metadata": {},
   "source": [
    "# Price Featuers tests."
   ]
  },
  {
   "cell_type": "code",
   "execution_count": 4,
   "metadata": {},
   "outputs": [],
   "source": [
    "close = np.array([10, 12, 13, 11, 14])\n",
    "high = np.array([11, 13, 14, 12, 15])\n",
    "low = np.array([9, 11, 12, 10, 13])\n",
    "open = np.array([9, 12, 12, 11, 13])"
   ]
  },
  {
   "cell_type": "code",
   "execution_count": 9,
   "metadata": {},
   "outputs": [
    {
     "data": {
      "text/html": [
       "<div>\n",
       "<style scoped>\n",
       "    .dataframe tbody tr th:only-of-type {\n",
       "        vertical-align: middle;\n",
       "    }\n",
       "\n",
       "    .dataframe tbody tr th {\n",
       "        vertical-align: top;\n",
       "    }\n",
       "\n",
       "    .dataframe thead th {\n",
       "        text-align: right;\n",
       "    }\n",
       "</style>\n",
       "<table border=\"1\" class=\"dataframe\">\n",
       "  <thead>\n",
       "    <tr style=\"text-align: right;\">\n",
       "      <th></th>\n",
       "      <th>Price_change</th>\n",
       "      <th>next_log_return</th>\n",
       "      <th>high_low_spread</th>\n",
       "      <th>close_open_spread</th>\n",
       "    </tr>\n",
       "  </thead>\n",
       "  <tbody>\n",
       "    <tr>\n",
       "      <th>0</th>\n",
       "      <td>0</td>\n",
       "      <td>NaN</td>\n",
       "      <td>2</td>\n",
       "      <td>-1</td>\n",
       "    </tr>\n",
       "    <tr>\n",
       "      <th>1</th>\n",
       "      <td>2</td>\n",
       "      <td>0.182322</td>\n",
       "      <td>2</td>\n",
       "      <td>-1</td>\n",
       "    </tr>\n",
       "    <tr>\n",
       "      <th>2</th>\n",
       "      <td>1</td>\n",
       "      <td>0.080043</td>\n",
       "      <td>2</td>\n",
       "      <td>-1</td>\n",
       "    </tr>\n",
       "    <tr>\n",
       "      <th>3</th>\n",
       "      <td>-2</td>\n",
       "      <td>-0.167054</td>\n",
       "      <td>2</td>\n",
       "      <td>-1</td>\n",
       "    </tr>\n",
       "    <tr>\n",
       "      <th>4</th>\n",
       "      <td>3</td>\n",
       "      <td>0.241162</td>\n",
       "      <td>2</td>\n",
       "      <td>-1</td>\n",
       "    </tr>\n",
       "  </tbody>\n",
       "</table>\n",
       "</div>"
      ],
      "text/plain": [
       "   Price_change  next_log_return  high_low_spread  close_open_spread\n",
       "0             0              NaN                2                 -1\n",
       "1             2         0.182322                2                 -1\n",
       "2             1         0.080043                2                 -1\n",
       "3            -2        -0.167054                2                 -1\n",
       "4             3         0.241162                2                 -1"
      ]
     },
     "execution_count": 9,
     "metadata": {},
     "output_type": "execute_result"
    }
   ],
   "source": [
    "from frypto.price import PriceFeatures\n",
    "pf = PriceFeatures(close, high, low, high)\n",
    "df = pf.compute()\n",
    "df"
   ]
  },
  {
   "cell_type": "code",
   "execution_count": 21,
   "metadata": {},
   "outputs": [
    {
     "data": {
      "text/plain": [
       "array([        nan,  0.18232156,  0.08004271, -0.16705408,  0.24116206])"
      ]
     },
     "execution_count": 21,
     "metadata": {},
     "output_type": "execute_result"
    }
   ],
   "source": [
    "next_log_return = np.array(df.next_log_return)\n",
    "next_log_return"
   ]
  },
  {
   "cell_type": "markdown",
   "metadata": {},
   "source": [
    "# Lag rolling features"
   ]
  },
  {
   "cell_type": "code",
   "execution_count": 33,
   "metadata": {},
   "outputs": [
    {
     "data": {
      "text/html": [
       "<div>\n",
       "<style scoped>\n",
       "    .dataframe tbody tr th:only-of-type {\n",
       "        vertical-align: middle;\n",
       "    }\n",
       "\n",
       "    .dataframe tbody tr th {\n",
       "        vertical-align: top;\n",
       "    }\n",
       "\n",
       "    .dataframe thead th {\n",
       "        text-align: right;\n",
       "    }\n",
       "</style>\n",
       "<table border=\"1\" class=\"dataframe\">\n",
       "  <thead>\n",
       "    <tr style=\"text-align: right;\">\n",
       "      <th></th>\n",
       "      <th>lag_1</th>\n",
       "      <th>lag_2</th>\n",
       "      <th>rolling_mean_3</th>\n",
       "      <th>rolling_max_3</th>\n",
       "      <th>rolling_min_3</th>\n",
       "    </tr>\n",
       "  </thead>\n",
       "  <tbody>\n",
       "    <tr>\n",
       "      <th>0</th>\n",
       "      <td>NaN</td>\n",
       "      <td>NaN</td>\n",
       "      <td>NaN</td>\n",
       "      <td>NaN</td>\n",
       "      <td>NaN</td>\n",
       "    </tr>\n",
       "    <tr>\n",
       "      <th>1</th>\n",
       "      <td>100.0</td>\n",
       "      <td>NaN</td>\n",
       "      <td>NaN</td>\n",
       "      <td>NaN</td>\n",
       "      <td>NaN</td>\n",
       "    </tr>\n",
       "    <tr>\n",
       "      <th>2</th>\n",
       "      <td>101.0</td>\n",
       "      <td>100.0</td>\n",
       "      <td>101.0</td>\n",
       "      <td>102.0</td>\n",
       "      <td>100.0</td>\n",
       "    </tr>\n",
       "    <tr>\n",
       "      <th>3</th>\n",
       "      <td>102.0</td>\n",
       "      <td>101.0</td>\n",
       "      <td>102.0</td>\n",
       "      <td>103.0</td>\n",
       "      <td>101.0</td>\n",
       "    </tr>\n",
       "    <tr>\n",
       "      <th>4</th>\n",
       "      <td>103.0</td>\n",
       "      <td>102.0</td>\n",
       "      <td>103.0</td>\n",
       "      <td>104.0</td>\n",
       "      <td>102.0</td>\n",
       "    </tr>\n",
       "  </tbody>\n",
       "</table>\n",
       "</div>"
      ],
      "text/plain": [
       "   lag_1  lag_2  rolling_mean_3  rolling_max_3  rolling_min_3\n",
       "0    NaN    NaN             NaN            NaN            NaN\n",
       "1  100.0    NaN             NaN            NaN            NaN\n",
       "2  101.0  100.0           101.0          102.0          100.0\n",
       "3  102.0  101.0           102.0          103.0          101.0\n",
       "4  103.0  102.0           103.0          104.0          102.0"
      ]
     },
     "execution_count": 33,
     "metadata": {},
     "output_type": "execute_result"
    }
   ],
   "source": [
    "from frypto import LagRollingFeatures\n",
    "\n",
    "close_np = np.array([100, 101, 102, 103, 104])\n",
    "LRF = LagRollingFeatures(close_np)\n",
    "df = LRF.compute(lags=[1, 2], windows=[3])\n",
    "df"
   ]
  },
  {
   "cell_type": "code",
   "execution_count": 37,
   "metadata": {},
   "outputs": [
    {
     "name": "stdout",
     "output_type": "stream",
     "text": [
      "[nan, 100.0, 101.0, 102.0, 103.0]\n",
      "[nan, nan, 100.0, 101.0, 102.0]\n",
      "[nan, nan, 101.0, 102.0, 103.0]\n",
      "[nan, nan, 102.0, 103.0, 104.0]\n",
      "[nan, nan, 100.0, 101.0, 102.0]\n"
     ]
    }
   ],
   "source": [
    "columns = df.columns\n",
    "for col in columns:\n",
    "    print(list(df[f'{col}']))"
   ]
  },
  {
   "cell_type": "markdown",
   "metadata": {},
   "source": [
    "# Momentum Features\n"
   ]
  },
  {
   "cell_type": "code",
   "execution_count": 50,
   "metadata": {},
   "outputs": [
    {
     "data": {
      "text/html": [
       "<div>\n",
       "<style scoped>\n",
       "    .dataframe tbody tr th:only-of-type {\n",
       "        vertical-align: middle;\n",
       "    }\n",
       "\n",
       "    .dataframe tbody tr th {\n",
       "        vertical-align: top;\n",
       "    }\n",
       "\n",
       "    .dataframe thead th {\n",
       "        text-align: right;\n",
       "    }\n",
       "</style>\n",
       "<table border=\"1\" class=\"dataframe\">\n",
       "  <thead>\n",
       "    <tr style=\"text-align: right;\">\n",
       "      <th></th>\n",
       "      <th>RSI</th>\n",
       "      <th>MACD</th>\n",
       "      <th>Signal_Line</th>\n",
       "      <th>SMA</th>\n",
       "      <th>EMA</th>\n",
       "      <th>ROC</th>\n",
       "    </tr>\n",
       "  </thead>\n",
       "  <tbody>\n",
       "    <tr>\n",
       "      <th>0</th>\n",
       "      <td>NaN</td>\n",
       "      <td>0.000000</td>\n",
       "      <td>0.000000</td>\n",
       "      <td>NaN</td>\n",
       "      <td>100.000000</td>\n",
       "      <td>-1.960784</td>\n",
       "    </tr>\n",
       "    <tr>\n",
       "      <th>1</th>\n",
       "      <td>NaN</td>\n",
       "      <td>0.083328</td>\n",
       "      <td>0.062496</td>\n",
       "      <td>NaN</td>\n",
       "      <td>100.666664</td>\n",
       "      <td>-1.941748</td>\n",
       "    </tr>\n",
       "    <tr>\n",
       "      <th>2</th>\n",
       "      <td>NaN</td>\n",
       "      <td>0.208389</td>\n",
       "      <td>0.163499</td>\n",
       "      <td>101.0</td>\n",
       "      <td>101.428574</td>\n",
       "      <td>-1.923077</td>\n",
       "    </tr>\n",
       "    <tr>\n",
       "      <th>3</th>\n",
       "      <td>NaN</td>\n",
       "      <td>0.359009</td>\n",
       "      <td>0.295468</td>\n",
       "      <td>102.0</td>\n",
       "      <td>102.266670</td>\n",
       "      <td>3.000000</td>\n",
       "    </tr>\n",
       "    <tr>\n",
       "      <th>4</th>\n",
       "      <td>NaN</td>\n",
       "      <td>0.519279</td>\n",
       "      <td>0.445292</td>\n",
       "      <td>103.0</td>\n",
       "      <td>103.161293</td>\n",
       "      <td>2.970297</td>\n",
       "    </tr>\n",
       "  </tbody>\n",
       "</table>\n",
       "</div>"
      ],
      "text/plain": [
       "   RSI      MACD  Signal_Line    SMA         EMA       ROC\n",
       "0  NaN  0.000000     0.000000    NaN  100.000000 -1.960784\n",
       "1  NaN  0.083328     0.062496    NaN  100.666664 -1.941748\n",
       "2  NaN  0.208389     0.163499  101.0  101.428574 -1.923077\n",
       "3  NaN  0.359009     0.295468  102.0  102.266670  3.000000\n",
       "4  NaN  0.519279     0.445292  103.0  103.161293  2.970297"
      ]
     },
     "execution_count": 50,
     "metadata": {},
     "output_type": "execute_result"
    }
   ],
   "source": [
    "from frypto.momentum import MomentumFeatures\n",
    "import numpy as np\n",
    "close_np = np.array([100, 101, 102, 103, 104])\n",
    "vf = MomentumFeatures(close_np)\n",
    "df = vf.compute(window=3, rsi_window=2, macd_windows=(3, 6, 2))\n",
    "df \n"
   ]
  },
  {
   "cell_type": "code",
   "execution_count": 58,
   "metadata": {},
   "outputs": [
    {
     "name": "stdout",
     "output_type": "stream",
     "text": [
      "RSI, [nan, nan, nan, nan, nan]\n",
      "MACD, [0.0, 0.0833282470703125, 0.2083892822265625, 0.3590087890625, 0.5192794799804688]\n",
      "Signal_Line, [0.0, 0.062496185302734375, 0.16349910199642181, 0.29546815156936646, 0.44529226422309875]\n",
      "SMA, [nan, nan, 101.0, 102.0, 103.0]\n",
      "EMA, [100.0, 100.66666412353516, 101.42857360839844, 102.26667022705078, 103.16129302978516]\n",
      "ROC, [-1.9607844352722168, -1.9417475461959839, -1.9230769872665405, 3.0, 2.97029709815979]\n"
     ]
    }
   ],
   "source": [
    "columns = df.columns\n",
    "for col in columns:\n",
    "    print(f\"{col}, {list(df[f'{col}'])}\")"
   ]
  },
  {
   "cell_type": "markdown",
   "metadata": {},
   "source": [
    "# Statistical features"
   ]
  },
  {
   "cell_type": "code",
   "execution_count": 80,
   "metadata": {},
   "outputs": [
    {
     "data": {
      "text/html": [
       "<div>\n",
       "<style scoped>\n",
       "    .dataframe tbody tr th:only-of-type {\n",
       "        vertical-align: middle;\n",
       "    }\n",
       "\n",
       "    .dataframe tbody tr th {\n",
       "        vertical-align: top;\n",
       "    }\n",
       "\n",
       "    .dataframe thead th {\n",
       "        text-align: right;\n",
       "    }\n",
       "</style>\n",
       "<table border=\"1\" class=\"dataframe\">\n",
       "  <thead>\n",
       "    <tr style=\"text-align: right;\">\n",
       "      <th></th>\n",
       "      <th>Skew_4</th>\n",
       "      <th>Kurtosis_4</th>\n",
       "      <th>ZScore_4</th>\n",
       "    </tr>\n",
       "  </thead>\n",
       "  <tbody>\n",
       "    <tr>\n",
       "      <th>0</th>\n",
       "      <td>NaN</td>\n",
       "      <td>NaN</td>\n",
       "      <td>NaN</td>\n",
       "    </tr>\n",
       "    <tr>\n",
       "      <th>1</th>\n",
       "      <td>NaN</td>\n",
       "      <td>NaN</td>\n",
       "      <td>NaN</td>\n",
       "    </tr>\n",
       "    <tr>\n",
       "      <th>2</th>\n",
       "      <td>NaN</td>\n",
       "      <td>NaN</td>\n",
       "      <td>NaN</td>\n",
       "    </tr>\n",
       "    <tr>\n",
       "      <th>3</th>\n",
       "      <td>0.000000</td>\n",
       "      <td>-5.794530</td>\n",
       "      <td>1.079591</td>\n",
       "    </tr>\n",
       "    <tr>\n",
       "      <th>4</th>\n",
       "      <td>-1.889176</td>\n",
       "      <td>3.585644</td>\n",
       "      <td>-1.715323</td>\n",
       "    </tr>\n",
       "  </tbody>\n",
       "</table>\n",
       "</div>"
      ],
      "text/plain": [
       "     Skew_4  Kurtosis_4  ZScore_4\n",
       "0       NaN         NaN       NaN\n",
       "1       NaN         NaN       NaN\n",
       "2       NaN         NaN       NaN\n",
       "3  0.000000   -5.794530  1.079591\n",
       "4 -1.889176    3.585644 -1.715323"
      ]
     },
     "execution_count": 80,
     "metadata": {},
     "output_type": "execute_result"
    }
   ],
   "source": [
    "import numpy as np\n",
    "from frypto.statistical_features import StatisticalFeatures\n",
    "close = np.array([90, 91, 102, 103, 21])\n",
    "sf = StatisticalFeatures(close)\n",
    "df = sf.compute(window=4)\n",
    "df"
   ]
  },
  {
   "cell_type": "code",
   "execution_count": 81,
   "metadata": {},
   "outputs": [
    {
     "name": "stdout",
     "output_type": "stream",
     "text": [
      "Skew_4, [nan, nan, nan, 0.0, -1.8891759251356406]\n",
      "Kurtosis_4, [nan, nan, nan, -5.7945303210463734, 3.58564420103653]\n",
      "ZScore_4, [nan, nan, nan, 1.0795912446866822, -1.7153232284664415]\n"
     ]
    }
   ],
   "source": [
    "columns = df.columns\n",
    "for col in columns:\n",
    "    print(f\"{col}, {list(df[f'{col}'])}\")"
   ]
  },
  {
   "cell_type": "markdown",
   "metadata": {},
   "source": [
    "# Trend Features"
   ]
  },
  {
   "cell_type": "code",
   "execution_count": 13,
   "metadata": {},
   "outputs": [],
   "source": [
    "import numpy as np\n",
    "close = np.array([10, 12, 13, 11, 14])\n",
    "high = np.array([11, 13, 14, 12, 15])\n",
    "low = np.array([9, 11, 12, 10, 13])\n",
    "open = np.array([9, 12, 12, 11, 13])"
   ]
  },
  {
   "cell_type": "code",
   "execution_count": 14,
   "metadata": {},
   "outputs": [
    {
     "data": {
      "text/html": [
       "<div>\n",
       "<style scoped>\n",
       "    .dataframe tbody tr th:only-of-type {\n",
       "        vertical-align: middle;\n",
       "    }\n",
       "\n",
       "    .dataframe tbody tr th {\n",
       "        vertical-align: top;\n",
       "    }\n",
       "\n",
       "    .dataframe thead th {\n",
       "        text-align: right;\n",
       "    }\n",
       "</style>\n",
       "<table border=\"1\" class=\"dataframe\">\n",
       "  <thead>\n",
       "    <tr style=\"text-align: right;\">\n",
       "      <th></th>\n",
       "      <th>+DI</th>\n",
       "      <th>-DI</th>\n",
       "      <th>ADX</th>\n",
       "      <th>support_line</th>\n",
       "      <th>resistance_line</th>\n",
       "      <th>tenkan_sen</th>\n",
       "      <th>kijun_sen</th>\n",
       "      <th>senkou_span_a</th>\n",
       "      <th>senkou_span_b</th>\n",
       "      <th>chikou_span</th>\n",
       "    </tr>\n",
       "  </thead>\n",
       "  <tbody>\n",
       "    <tr>\n",
       "      <th>0</th>\n",
       "      <td>NaN</td>\n",
       "      <td>NaN</td>\n",
       "      <td>NaN</td>\n",
       "      <td>10.0</td>\n",
       "      <td>NaN</td>\n",
       "      <td>NaN</td>\n",
       "      <td>NaN</td>\n",
       "      <td>NaN</td>\n",
       "      <td>NaN</td>\n",
       "      <td>NaN</td>\n",
       "    </tr>\n",
       "    <tr>\n",
       "      <th>1</th>\n",
       "      <td>NaN</td>\n",
       "      <td>NaN</td>\n",
       "      <td>NaN</td>\n",
       "      <td>NaN</td>\n",
       "      <td>NaN</td>\n",
       "      <td>NaN</td>\n",
       "      <td>NaN</td>\n",
       "      <td>NaN</td>\n",
       "      <td>NaN</td>\n",
       "      <td>NaN</td>\n",
       "    </tr>\n",
       "    <tr>\n",
       "      <th>2</th>\n",
       "      <td>0.0</td>\n",
       "      <td>0.0</td>\n",
       "      <td>NaN</td>\n",
       "      <td>NaN</td>\n",
       "      <td>NaN</td>\n",
       "      <td>NaN</td>\n",
       "      <td>NaN</td>\n",
       "      <td>NaN</td>\n",
       "      <td>NaN</td>\n",
       "      <td>NaN</td>\n",
       "    </tr>\n",
       "    <tr>\n",
       "      <th>3</th>\n",
       "      <td>0.0</td>\n",
       "      <td>0.0</td>\n",
       "      <td>NaN</td>\n",
       "      <td>NaN</td>\n",
       "      <td>NaN</td>\n",
       "      <td>NaN</td>\n",
       "      <td>NaN</td>\n",
       "      <td>NaN</td>\n",
       "      <td>NaN</td>\n",
       "      <td>NaN</td>\n",
       "    </tr>\n",
       "    <tr>\n",
       "      <th>4</th>\n",
       "      <td>0.0</td>\n",
       "      <td>0.0</td>\n",
       "      <td>NaN</td>\n",
       "      <td>NaN</td>\n",
       "      <td>14.0</td>\n",
       "      <td>NaN</td>\n",
       "      <td>NaN</td>\n",
       "      <td>NaN</td>\n",
       "      <td>NaN</td>\n",
       "      <td>NaN</td>\n",
       "    </tr>\n",
       "  </tbody>\n",
       "</table>\n",
       "</div>"
      ],
      "text/plain": [
       "   +DI  -DI  ADX  support_line  resistance_line  tenkan_sen  kijun_sen  \\\n",
       "0  NaN  NaN  NaN          10.0              NaN         NaN        NaN   \n",
       "1  NaN  NaN  NaN           NaN              NaN         NaN        NaN   \n",
       "2  0.0  0.0  NaN           NaN              NaN         NaN        NaN   \n",
       "3  0.0  0.0  NaN           NaN              NaN         NaN        NaN   \n",
       "4  0.0  0.0  NaN           NaN             14.0         NaN        NaN   \n",
       "\n",
       "   senkou_span_a  senkou_span_b  chikou_span  \n",
       "0            NaN            NaN          NaN  \n",
       "1            NaN            NaN          NaN  \n",
       "2            NaN            NaN          NaN  \n",
       "3            NaN            NaN          NaN  \n",
       "4            NaN            NaN          NaN  "
      ]
     },
     "execution_count": 14,
     "metadata": {},
     "output_type": "execute_result"
    }
   ],
   "source": [
    "from frypto.trend_features import TrendFeatures\n",
    "TF = TrendFeatures(close, high, low)\n",
    "df = TF.compute(window=3)\n",
    "df"
   ]
  },
  {
   "cell_type": "markdown",
   "metadata": {},
   "source": [
    "# Volatility"
   ]
  },
  {
   "cell_type": "code",
   "execution_count": 19,
   "metadata": {},
   "outputs": [
    {
     "data": {
      "text/html": [
       "<div>\n",
       "<style scoped>\n",
       "    .dataframe tbody tr th:only-of-type {\n",
       "        vertical-align: middle;\n",
       "    }\n",
       "\n",
       "    .dataframe tbody tr th {\n",
       "        vertical-align: top;\n",
       "    }\n",
       "\n",
       "    .dataframe thead th {\n",
       "        text-align: right;\n",
       "    }\n",
       "</style>\n",
       "<table border=\"1\" class=\"dataframe\">\n",
       "  <thead>\n",
       "    <tr style=\"text-align: right;\">\n",
       "      <th></th>\n",
       "      <th>rolling_std</th>\n",
       "      <th>upper_band</th>\n",
       "      <th>lower_band</th>\n",
       "      <th>ATR</th>\n",
       "    </tr>\n",
       "  </thead>\n",
       "  <tbody>\n",
       "    <tr>\n",
       "      <th>0</th>\n",
       "      <td>NaN</td>\n",
       "      <td>NaN</td>\n",
       "      <td>NaN</td>\n",
       "      <td>NaN</td>\n",
       "    </tr>\n",
       "    <tr>\n",
       "      <th>1</th>\n",
       "      <td>0.5</td>\n",
       "      <td>1.5</td>\n",
       "      <td>-0.5</td>\n",
       "      <td>0.5</td>\n",
       "    </tr>\n",
       "    <tr>\n",
       "      <th>2</th>\n",
       "      <td>0.5</td>\n",
       "      <td>2.5</td>\n",
       "      <td>0.5</td>\n",
       "      <td>1.0</td>\n",
       "    </tr>\n",
       "    <tr>\n",
       "      <th>3</th>\n",
       "      <td>0.5</td>\n",
       "      <td>3.5</td>\n",
       "      <td>1.5</td>\n",
       "      <td>1.0</td>\n",
       "    </tr>\n",
       "    <tr>\n",
       "      <th>4</th>\n",
       "      <td>0.5</td>\n",
       "      <td>4.5</td>\n",
       "      <td>2.5</td>\n",
       "      <td>1.0</td>\n",
       "    </tr>\n",
       "  </tbody>\n",
       "</table>\n",
       "</div>"
      ],
      "text/plain": [
       "   rolling_std  upper_band  lower_band  ATR\n",
       "0          NaN         NaN         NaN  NaN\n",
       "1          0.5         1.5        -0.5  0.5\n",
       "2          0.5         2.5         0.5  1.0\n",
       "3          0.5         3.5         1.5  1.0\n",
       "4          0.5         4.5         2.5  1.0"
      ]
     },
     "execution_count": 19,
     "metadata": {},
     "output_type": "execute_result"
    }
   ],
   "source": [
    "from frypto.volatility import VolatilityFeatures\n",
    "import numpy as np\n",
    "\n",
    "close = np.arange(5)\n",
    "high = np.arange(5)\n",
    "low = np.arange(5)\n",
    "VF = VolatilityFeatures(close, high, low)\n",
    "df = VF.compute(window=2)\n",
    "df"
   ]
  },
  {
   "cell_type": "code",
   "execution_count": 20,
   "metadata": {},
   "outputs": [
    {
     "name": "stdout",
     "output_type": "stream",
     "text": [
      "rolling_std, [nan, 0.5, 0.5, 0.5, 0.5]\n",
      "upper_band, [nan, 1.5, 2.5, 3.5, 4.5]\n",
      "lower_band, [nan, -0.5, 0.5, 1.5, 2.5]\n",
      "ATR, [nan, 0.5, 1.0, 1.0, 1.0]\n"
     ]
    }
   ],
   "source": [
    "columns = df.columns\n",
    "for col in columns:\n",
    "    print(f\"{col}, {list(df[f'{col}'])}\")"
   ]
  },
  {
   "cell_type": "code",
   "execution_count": 21,
   "metadata": {},
   "outputs": [
    {
     "name": "stdout",
     "output_type": "stream",
     "text": [
      "Index(['rolling_std', 'upper_band', 'lower_band', 'ATR'], dtype='object')\n"
     ]
    }
   ],
   "source": [
    "print(columns)"
   ]
  }
 ],
 "metadata": {
  "kernelspec": {
   "display_name": "Python 3",
   "language": "python",
   "name": "python3"
  },
  "language_info": {
   "codemirror_mode": {
    "name": "ipython",
    "version": 3
   },
   "file_extension": ".py",
   "mimetype": "text/x-python",
   "name": "python",
   "nbconvert_exporter": "python",
   "pygments_lexer": "ipython3",
   "version": "3.10.12"
  }
 },
 "nbformat": 4,
 "nbformat_minor": 2
}
